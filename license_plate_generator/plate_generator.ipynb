{
  "cells": [
    {
      "cell_type": "code",
      "execution_count": 1,
      "metadata": {
        "id": "PumxDOcdbYOG"
      },
      "outputs": [],
      "source": [
        "plate_ids = [\n",
        "  \"กท 1234\",\n",
        "  \"ขร 5678\",\n",
        "  \"งย 9012\",\n",
        "  \"ชก 3456\",\n",
        "  \"ทท 7890\",\n",
        "  \"ปค 2345\",\n",
        "  \"มน 6789\",\n",
        "  \"วด 0123\",\n",
        "  \"กข 4567\",\n",
        "  \"ชพ 8901\",\n",
        "  \"กจ 2345\",\n",
        "  \"พท 6789\",\n",
        "  \"ธง 0123\",\n",
        "  \"ศช 4567\",\n",
        "  \"ตห 8901\",\n",
        "  \"ยข 3456\",\n",
        "  \"ศก 7890\",\n",
        "  \"ขจ 2341\",\n",
        "  \"จท 5678\",\n",
        "  \"ฬด 9012\",\n",
        "  \"รย 1234\",\n",
        "  \"บม 5670\",\n",
        "  \"จน 8902\",\n",
        "  \"ฟข 3457\",\n",
        "  \"วก 7891\",\n",
        "  \"กท 2349\",\n",
        "  \"หจ 5672\",\n",
        "  \"ชด 9010\",\n",
        "  \"ดข 3450\",\n",
        "  \"พง 7894\",\n",
        "  \"ขน 4561\",\n",
        "  \"ยร 7892\",\n",
        "  \"จก 1235\",\n",
        "  \"ธช 6784\",\n",
        "  \"ศท 0124\",\n",
        "  \"ฟก 3451\",\n",
        "  \"ผท 5673\",\n",
        "  \"นน 9015\",\n",
        "  \"วก 2346\",\n",
        "  \"รจ 8903\",\n",
        "  \"ตง 5679\",\n",
        "  \"ถข 1237\",\n",
        "  \"พห 7896\",\n",
        "  \"ชก 2340\",\n",
        "  \"จข 4569\",\n",
        "  \"นย 6783\",\n",
        "  \"ลท 9016\",\n",
        "  \"ดจ 0126\",\n",
        "  \"บง 3458\",\n",
        "  \"ยช 5674\",\n",
        "  \"พท 8907\",\n",
        "  \"ขย 1238\",\n",
        "  \"จก 4563\",\n",
        "  \"ทก 7895\",\n",
        "  \"หท 2342\",\n",
        "  \"งช 6782\",\n",
        "  \"ศก 0128\",\n",
        "  \"พง 3452\",\n",
        "  \"ดย 5675\",\n",
        "  \"ถน 8904\"\n",
        "  \"กย 1239\",\n",
        "  \"ขง 4568\",\n",
        "  \"ชข 7893\",\n",
        "  \"ทท 2347\",\n",
        "  \"บง 6780\",\n",
        "  \"งท 9018\",\n",
        "  \"ปก 0127\",\n",
        "  \"ยด 3453\",\n",
        "  \"ฟท 5676\",\n",
        "  \"จน 8908\",\n",
        "  \"รท 1231\",\n",
        "  \"ขช 4564\",\n",
        "  \"พย 7897\",\n",
        "  \"ศจ 2343\",\n",
        "  \"งก 6787\",\n",
        "  \"ตข 0129\",\n",
        "  \"ยท 3459\",\n",
        "  \"จก 5671\",\n",
        "  \"ลข 8905\",\n",
        "  \"ฟย 1236\",\n",
        "  \"หท 4562\",\n",
        "  \"ทข 7898\",\n",
        "  \"นง 2348\",\n",
        "  \"งจ 6781\",\n",
        "  \"ปท 9017\",\n",
        "  \"พข 0125\",\n",
        "  \"รน 3454\",\n",
        "  \"จย 5677\",\n",
        "  \"กง 8906\",\n",
        "  \"ขท 1230\",\n",
        "  \"ผก 4565\",\n",
        "  \"วข 7899\",\n",
        "  \"หจ 2344\",\n",
        "  \"นท 6786\",\n",
        "  \"ลน 9019\",\n",
        "  \"ดก 0120\",\n",
        "  \"ฟข 3455\",\n",
        "  \"ชท 5670\",\n",
        "  \"รก 8909\",\n",
        "  \"กท 1232\",\n",
        "  \"ขง 4566\",\n",
        "  \"ชท 7890\",\n",
        "  \"ทน 2341\",\n",
        "  \"บข 6785\",\n",
        "  \"งท 9010\",\n",
        "  \"ปง 0124\",\n",
        "  \"ยก 3450\",\n",
        "  \"ฟข 5678\",\n",
        "  \"รข 1233\",\n",
        "  \"ขท 4560\",\n",
        "  \"พน 7895\",\n",
        "  \"ศข 2347\",\n",
        "  \"งท 6783\",\n",
        "  \"ตง 0123\",\n",
        "  \"ยข 3451\",\n",
        "  \"จก 5672\",\n",
        "  \"ลน 8907\",\n",
        "  \"ฟท 1234\",\n",
        "  \"หง 4569\",\n",
        "  \"ทท 7892\",\n",
        "  \"นก 2345\",\n",
        "  \"งข 6784\",\n",
        "  \"ปน 9011\",\n",
        "  \"พน 0125\",\n",
        "  \"รข 3457\",\n",
        "  \"จท 5674\",\n",
        "  \"กง 8901\",\n",
        "  \"ขน 1239\",\n",
        "  \"ผข 4561\",\n",
        "  \"วน 7891\",\n",
        "  \"หง 2349\",\n",
        "  \"นท 6787\",\n",
        "  \"ลข 9016\",\n",
        "  \"ดท 0128\",\n",
        "  \"ฟน 3453\",\n",
        "  \"ชข 5675\",\n",
        "  \"รก 8903\",\n",
        "  \"กน 1230\",\n",
        "  \"ขท 4565\",\n",
        "  \"ชท 7894\",\n",
        "  \"ทข 2342\",\n",
        "  \"บข 6786\",\n",
        "  \"งข 9014\",\n",
        "  \"ปข 0129\",\n",
        "  \"ยน 3456\",\n",
        "  \"ฟท 5679\",\n",
        "  \"จท 8908\",\n",
        "  \"หง 5673\",\n",
        "  \"กย 7891\",\n",
        "  \"ขน 2345\",\n",
        "  \"ชง 6782\",\n",
        "  \"ทข 9013\",\n",
        "  \"บน 0126\",\n",
        "  \"งข 3452\",\n",
        "  \"ปง 5670\",\n",
        "  \"ยน 8904\",\n",
        "  \"ฟง 1237\",\n",
        "  \"จง 4563\",\n",
        "  \"รน 7898\",\n",
        "  \"ขง 2349\",\n",
        "  \"นข 6781\",\n",
        "  \"ลท 0121\",\n",
        "  \"ทก 3459\",\n",
        "  \"ดข 5671\",\n",
        "  \"ฟท 8906\",\n",
        "  \"ศท 1235\",\n",
        "  \"นท 4568\",\n",
        "  \"จก 7892\",\n",
        "  \"ปน 2340\",\n",
        "  \"รข 6789\",\n",
        "  \"จท 9014\",\n",
        "  \"ผน 0127\",\n",
        "  \"ทง 3458\",\n",
        "  \"หท 5674\",\n",
        "  \"ขน 8902\",\n",
        "  \"พท 1236\",\n",
        "  \"นน 4561\",\n",
        "  \"วน 7897\",\n",
        "  \"หง 2346\",\n",
        "  \"ฟท 6788\",\n",
        "  \"รน 0122\",\n",
        "  \"จก 3456\",\n",
        "  \"จน 5672\",\n",
        "  \"ดง 8905\",\n",
        "  \"ฟข 1239\",\n",
        "  \"ชท 4569\",\n",
        "  \"บง 7894\",\n",
        "  \"ปข 2347\",\n",
        "  \"ทท 6780\",\n",
        "  \"ยง 0123\",\n",
        "  \"ฟท 3453\",\n",
        "  \"นง 5678\",\n",
        "  \"ธน 1234\",\n",
        "  \"ปน 4567\",\n",
        "  \"ขท 7895\",\n",
        "  \"ชท 2348\",\n",
        "  \"จก 6785\",\n",
        "  \"กจ 3458\",\n",
        "  \"พก 6781\",\n",
        "  \"ศท 1238\",\n",
        "  \"ตจ 4562\",\n",
        "  \"ยท 7893\",\n",
        "  \"ชร 2349\",\n",
        "  \"ทน 5671\",\n",
        "  \"บข 8907\",\n",
        "  \"งน 0129\",\n",
        "  \"ปท 3454\",\n",
        "  \"ยน 6786\",\n",
        "  \"ฟจ 1235\",\n",
        "  \"จข 4560\",\n",
        "  \"รก 7896\",\n",
        "  \"ขร 2342\",\n",
        "  \"นท 5673\",\n",
        "  \"ลย 8901\",\n",
        "  \"ทง 0124\",\n",
        "  \"ชย 3456\",\n",
        "  \"ยร 6784\",\n",
        "  \"ปก 1237\",\n",
        "  \"รข 7891\",\n",
        "  \"ดท 2343\",\n",
        "  \"ฟข 5672\",\n",
        "  \"ชท 8900\",\n",
        "  \"ลท 0125\",\n",
        "  \"วก 3459\",\n",
        "  \"จก 6780\",\n",
        "  \"กข 1239\",\n",
        "  \"นย 4568\",\n",
        "  \"งร 7897\",\n",
        "  \"ยก 2348\",\n",
        "  \"ศย 5674\",\n",
        "  \"นน 8904\",\n",
        "  \"ตน 0120\",\n",
        "  \"ฟย 3451\",\n",
        "  \"ลข 6783\",\n",
        "  \"ขก 1230\",\n",
        "  \"ทก 4561\",\n",
        "  \"ยง 7895\",\n",
        "  \"บก 2347\",\n",
        "  \"จน 5670\",\n",
        "  \"งจ 8903\",\n",
        "  \"พข 0126\",\n",
        "  \"รก 3457\",\n",
        "  \"นง 6782\",\n",
        "  \"ขท 1234\",\n",
        "  \"บข 4567\",\n",
        "  \"ศย 5678\",\n",
        "  \"ศน 6789\",\n",
        "  \"บย 1236\",\n",
        "  \"ยท 4563\",\n",
        "  \"ฟร 7892\",\n",
        "  \"จน 2341\",\n",
        "  \"รท 5679\",\n",
        "  \"จน 1237\",\n",
        "  \"พจ 3452\",\n",
        "  \"บช 5671\",\n",
        "  \"ชง 7894\",\n",
        "  \"งด 2340\",\n",
        "  \"ปย 6787\",\n",
        "  \"ศจ 0127\",\n",
        "  \"ทย 3453\",\n",
        "  \"ลก 5678\",\n",
        "  \"ฟท 8902\",\n",
        "  \"นข 1235\",\n",
        "  \"ยน 4569\",\n",
        "  \"ชค 7890\",\n",
        "  \"รด 2345\",\n",
        "  \"วก 6782\",\n",
        "  \"ดย 0128\",\n",
        "  \"ปจ 3456\",\n",
        "  \"ถน 5679\",\n",
        "  \"ฟท 8900\",\n",
        "  \"กข 1231\",\n",
        "  \"ศท 4560\",\n",
        "  \"งท 7898\",\n",
        "  \"รย 2347\",\n",
        "  \"นค 6789\",\n",
        "  \"จย 0125\",\n",
        "  \"ทท 3450\",\n",
        "  \"ลน 5672\",\n",
        "  \"ฟง 8907\",\n",
        "  \"ทน 1234\",\n",
        "  \"บก 4562\",\n",
        "  \"ยน 7891\",\n",
        "  \"ฟข 2348\",\n",
        "  \"ชก 6785\",\n",
        "  \"จน 0126\",\n",
        "  \"รก 3455\",\n",
        "  \"บจ 5673\",\n",
        "  \"ถก 8906\",\n",
        "  \"ยง 1239\",\n",
        "  \"ฟจ 4567\",\n",
        "  \"จข 7899\",\n",
        "  \"ตจ 2341\",\n",
        "  \"ขน 6783\",\n",
        "  \"นท 0123\",\n",
        "  \"ศง 3459\",\n",
        "  \"ยข 5674\",\n",
        "  \"ถข 8901\",\n",
        "  \"รก 1232\",\n",
        "  \"บง 4564\",\n",
        "  \"จน 7897\",\n",
        "  \"ทน 2346\",\n",
        "  \"ฟข 6781\",\n",
        "  \"นง 1236\",\n",
        "  \"บท 4561\",\n",
        "  \"ทง 7896\",\n",
        "  \"ลค 2342\",\n",
        "  \"ขย 6789\",\n",
        "  \"ยน 0124\",\n",
        "  \"ฟข 3454\",\n",
        "  \"นร 5675\",\n",
        "  \"จน 8900\",\n",
        "  \"รข 1230\",\n",
        "  \"ชย 4563\",\n",
        "  \"วก 7895\",\n",
        "  \"บก 2348\",\n",
        "  \"ยง 6784\",\n",
        "  \"ถง 0129\",\n",
        "  \"ศข 3459\",\n",
        "  \"พข 5673\",\n",
        "  \"กน 8903\",\n",
        "  \"จน 1239\",\n",
        "  \"ทท 4562\",\n",
        "  \"ยจ 7897\",\n",
        "  \"ฟร 2349\",\n",
        "  \"ถจ 6780\",\n",
        "  \"นช 0121\",\n",
        "  \"ศก 3457\",\n",
        "  \"บจ 5670\",\n",
        "  \"ขน 8904\",\n",
        "  \"จน 1238\",\n",
        "  \"ลย 4565\",\n",
        "  \"นง 7890\",\n",
        "  \"รท 2341\",\n",
        "  \"จก 6782\",\n",
        "  \"ฟจ 0127\",\n",
        "  \"ทข 3456\",\n",
        "  \"บข 5672\",\n",
        "  \"งร 8909\",\n",
        "  \"รย 1233\",\n",
        "  \"จน 7898\",\n",
        "  \"นท 2346\",\n",
        "  \"บง 6781\",\n",
        "  \"ยก 0126\",\n",
        "  \"งข 3453\",\n",
        "  \"ปจ 5679\",\n",
        "  \"ลท 8905\",\n",
        "  \"ศข 1237\",\n",
        "  \"นค 4560\",\n",
        "  \"ฟย 7894\",\n",
        "  \"ถท 2347\",\n",
        "  \"บง 6786\",\n",
        "  \"จข 5676\"\n",
        "]\n",
        "\n",
        "provinces = [\n",
        "    \"กรุงเทพมหานคร\",\n",
        "    \"กระบี่\",\n",
        "    \"กาญจนบุรี\",\n",
        "    \"กาฬสินธุ์\",\n",
        "    \"กำแพงเพชร\",\n",
        "    \"ขอนแก่น\",\n",
        "    \"จันทบุรี\",\n",
        "    \"ฉะเชิงเทรา\",\n",
        "    \"ชลบุรี\",\n",
        "    \"ชัยนาท\",\n",
        "    \"ชัยภูมิ\",\n",
        "    \"ชุมพร\",\n",
        "    \"เชียงใหม่\",\n",
        "    \"เชียงราย\",\n",
        "    \"ตรัง\",\n",
        "    \"ตราด\",\n",
        "    \"ตาก\",\n",
        "    \"นครนายก\",\n",
        "    \"นครปฐม\",\n",
        "    \"นครพนม\",\n",
        "    \"นครราชสีมา\",\n",
        "    \"นครศรีธรรมราช\",\n",
        "    \"นครสวรรค์\",\n",
        "    \"นนทบุรี\",\n",
        "    \"นราธิวาส\",\n",
        "    \"น่าน\",\n",
        "    \"บึงกาฬ\",\n",
        "    \"บุรีรัมย์\",\n",
        "    \"ปทุมธานี\",\n",
        "    \"ประจวบคีรีขันธ์\",\n",
        "    \"ปราจีนบุรี\",\n",
        "    \"ปัตตานี\",\n",
        "    \"พระนครศรีอยุธยา\",\n",
        "    \"พะเยา\",\n",
        "    \"พังงา\",\n",
        "    \"พัทลุง\",\n",
        "    \"พิจิตร\",\n",
        "    \"พิษณุโลก\",\n",
        "    \"เพชรบุรี\",\n",
        "    \"เพชรบูรณ์\",\n",
        "    \"แพร่\",\n",
        "    \"ภูเก็ต\",\n",
        "    \"มหาสารคาม\",\n",
        "    \"มุกดาหาร\",\n",
        "    \"แม่ฮ่องสอน\",\n",
        "    \"ยโสธร\",\n",
        "    \"ยะลา\",\n",
        "    \"ร้อยเอ็ด\",\n",
        "    \"ระนอง\",\n",
        "    \"ระยอง\",\n",
        "    \"ราชบุรี\",\n",
        "    \"ลพบุรี\",\n",
        "    \"ลำปาง\",\n",
        "    \"ลำพูน\",\n",
        "    \"เลย\",\n",
        "    \"ศรีสะเกษ\",\n",
        "    \"สกลนคร\",\n",
        "    \"สงขลา\",\n",
        "    \"สตูล\",\n",
        "    \"สมุทรปราการ\",\n",
        "    \"สมุทรสงคราม\",\n",
        "    \"สมุทรสาคร\",\n",
        "    \"สระแก้ว\",\n",
        "    \"สระบุรี\",\n",
        "    \"สิงห์บุรี\",\n",
        "    \"สุโขทัย\",\n",
        "    \"สุพรรณบุรี\",\n",
        "    \"สุราษฎร์ธานี\",\n",
        "    \"สุรินทร์\",\n",
        "    \"หนองคาย\",\n",
        "    \"หนองบัวลำภู\",\n",
        "    \"อ่างทอง\",\n",
        "    \"อุดรธานี\",\n",
        "    \"อุตรดิตถ์\",\n",
        "    \"อุทัยธานี\",\n",
        "    \"อุบลราชธานี\",\n",
        "    \"อำนาจเจริญ\"\n",
        "]"
      ]
    },
    {
      "cell_type": "code",
      "execution_count": 2,
      "metadata": {
        "colab": {
          "base_uri": "https://localhost:8080/"
        },
        "id": "UvY1ez-Iht8S",
        "outputId": "9751b4bb-9273-474f-eea0-1585ba0f68f4"
      },
      "outputs": [
        {
          "data": {
            "text/plain": [
              "['/mnt/c/Users/teraw/Developer/projects/license_plate/template/bangkok.png',\n",
              " '/mnt/c/Users/teraw/Developer/projects/license_plate/template/Buriram.png',\n",
              " '/mnt/c/Users/teraw/Developer/projects/license_plate/template/Chiang Rai.png',\n",
              " '/mnt/c/Users/teraw/Developer/projects/license_plate/template/Nakorn Prathom.png',\n",
              " '/mnt/c/Users/teraw/Developer/projects/license_plate/template/Nakorn Sawan.png',\n",
              " '/mnt/c/Users/teraw/Developer/projects/license_plate/template/Nonthaburi.png',\n",
              " '/mnt/c/Users/teraw/Developer/projects/license_plate/template/normal.png',\n",
              " '/mnt/c/Users/teraw/Developer/projects/license_plate/template/Pathumthani.png',\n",
              " '/mnt/c/Users/teraw/Developer/projects/license_plate/template/Petchaburi.png',\n",
              " '/mnt/c/Users/teraw/Developer/projects/license_plate/template/Roi Et.png',\n",
              " '/mnt/c/Users/teraw/Developer/projects/license_plate/template/Suphanburi.png',\n",
              " '/mnt/c/Users/teraw/Developer/projects/license_plate/template/temporary.png',\n",
              " '/mnt/c/Users/teraw/Developer/projects/license_plate/template/Ubon Rachathani.png',\n",
              " '/mnt/c/Users/teraw/Developer/projects/license_plate/template/Udon Thani.png']"
            ]
          },
          "execution_count": 2,
          "metadata": {},
          "output_type": "execute_result"
        }
      ],
      "source": [
        "import os\n",
        "\n",
        "def get_paths(root_dir):\n",
        "    file_paths = []\n",
        "    for dirpath, _, filenames in os.walk(root_dir):\n",
        "        for filename in filenames:\n",
        "            file_path = os.path.join(dirpath, filename)\n",
        "            file_paths.append(file_path)\n",
        "    return file_paths\n",
        "\n",
        "root_directory = \"/mnt/c/Users/teraw/Developer/projects/license_plate/template\"\n",
        "backgrounds = get_paths(root_directory)\n",
        "backgrounds"
      ]
    },
    {
      "cell_type": "code",
      "execution_count": 3,
      "metadata": {
        "colab": {
          "base_uri": "https://localhost:8080/"
        },
        "id": "uQLeswMGf6eF",
        "outputId": "6de8e034-b55d-46fa-b15e-7527884d0e71"
      },
      "outputs": [
        {
          "data": {
            "text/plain": [
              "(352, 77)"
            ]
          },
          "execution_count": 3,
          "metadata": {},
          "output_type": "execute_result"
        }
      ],
      "source": [
        "len(plate_ids), len(provinces)"
      ]
    },
    {
      "cell_type": "code",
      "execution_count": 4,
      "metadata": {
        "colab": {
          "base_uri": "https://localhost:8080/"
        },
        "id": "h-AKnQn2gCIn",
        "outputId": "4c8da294-a26c-4c45-898d-4241c062fc25"
      },
      "outputs": [
        {
          "name": "stdout",
          "output_type": "stream",
          "text": [
            "{'plate_id': 'กง 8901', 'province': 'ตรัง', 'background': '/mnt/c/Users/teraw/Developer/projects/license_plate/template/Ubon Rachathani.png'}\n",
            "{'plate_id': 'บข 6785', 'province': 'สุราษฎร์ธานี', 'background': '/mnt/c/Users/teraw/Developer/projects/license_plate/template/Pathumthani.png'}\n",
            "{'plate_id': 'ปน 2340', 'province': 'ปัตตานี', 'background': '/mnt/c/Users/teraw/Developer/projects/license_plate/template/Buriram.png'}\n",
            "{'plate_id': 'นน 8904', 'province': 'แพร่', 'background': '/mnt/c/Users/teraw/Developer/projects/license_plate/template/Nakorn Sawan.png'}\n",
            "{'plate_id': 'จน 0126', 'province': 'ระนอง', 'background': '/mnt/c/Users/teraw/Developer/projects/license_plate/template/Buriram.png'}\n",
            "{'plate_id': 'พน 7895', 'province': 'แม่ฮ่องสอน', 'background': '/mnt/c/Users/teraw/Developer/projects/license_plate/template/Nonthaburi.png'}\n",
            "{'plate_id': 'นง 7890', 'province': 'สุราษฎร์ธานี', 'background': '/mnt/c/Users/teraw/Developer/projects/license_plate/template/Petchaburi.png'}\n",
            "{'plate_id': 'ทก 3459', 'province': 'ระนอง', 'background': '/mnt/c/Users/teraw/Developer/projects/license_plate/template/Chiang Rai.png'}\n",
            "{'plate_id': 'ฟร 7892', 'province': 'ชัยนาท', 'background': '/mnt/c/Users/teraw/Developer/projects/license_plate/template/Chiang Rai.png'}\n",
            "{'plate_id': 'ฟข 6781', 'province': 'นครพนม', 'background': '/mnt/c/Users/teraw/Developer/projects/license_plate/template/Buriram.png'}\n",
            "{'plate_id': 'ขน 8904', 'province': 'สระแก้ว', 'background': '/mnt/c/Users/teraw/Developer/projects/license_plate/template/Ubon Rachathani.png'}\n",
            "{'plate_id': 'วน 7891', 'province': 'สมุทรสาคร', 'background': '/mnt/c/Users/teraw/Developer/projects/license_plate/template/Nonthaburi.png'}\n",
            "{'plate_id': 'บก 2347', 'province': 'พัทลุง', 'background': '/mnt/c/Users/teraw/Developer/projects/license_plate/template/Pathumthani.png'}\n",
            "{'plate_id': 'ชก 6785', 'province': 'นครนายก', 'background': '/mnt/c/Users/teraw/Developer/projects/license_plate/template/Udon Thani.png'}\n",
            "{'plate_id': 'รก 1232', 'province': 'เพชรบูรณ์', 'background': '/mnt/c/Users/teraw/Developer/projects/license_plate/template/Pathumthani.png'}\n",
            "{'plate_id': 'ศก 7890', 'province': 'กาญจนบุรี', 'background': '/mnt/c/Users/teraw/Developer/projects/license_plate/template/Pathumthani.png'}\n",
            "{'plate_id': 'บข 8907', 'province': 'ราชบุรี', 'background': '/mnt/c/Users/teraw/Developer/projects/license_plate/template/temporary.png'}\n",
            "{'plate_id': 'จก 5672', 'province': 'สมุทรปราการ', 'background': '/mnt/c/Users/teraw/Developer/projects/license_plate/template/Nakorn Prathom.png'}\n",
            "{'plate_id': 'บจ 5670', 'province': 'ลำพูน', 'background': '/mnt/c/Users/teraw/Developer/projects/license_plate/template/temporary.png'}\n",
            "{'plate_id': 'นค 4560', 'province': 'อุตรดิตถ์', 'background': '/mnt/c/Users/teraw/Developer/projects/license_plate/template/Buriram.png'}\n",
            "{'plate_id': 'หง 5673', 'province': 'นครราชสีมา', 'background': '/mnt/c/Users/teraw/Developer/projects/license_plate/template/Nonthaburi.png'}\n",
            "{'plate_id': 'จท 9014', 'province': 'อุตรดิตถ์', 'background': '/mnt/c/Users/teraw/Developer/projects/license_plate/template/Buriram.png'}\n",
            "{'plate_id': 'ยก 3450', 'province': 'อุตรดิตถ์', 'background': '/mnt/c/Users/teraw/Developer/projects/license_plate/template/Nonthaburi.png'}\n",
            "{'plate_id': 'ชร 2349', 'province': 'อ่างทอง', 'background': '/mnt/c/Users/teraw/Developer/projects/license_plate/template/normal.png'}\n",
            "{'plate_id': 'ดจ 0126', 'province': 'บุรีรัมย์', 'background': '/mnt/c/Users/teraw/Developer/projects/license_plate/template/Udon Thani.png'}\n",
            "{'plate_id': 'ชข 5675', 'province': 'ตรัง', 'background': '/mnt/c/Users/teraw/Developer/projects/license_plate/template/Chiang Rai.png'}\n",
            "{'plate_id': 'ดย 0128', 'province': 'อุทัยธานี', 'background': '/mnt/c/Users/teraw/Developer/projects/license_plate/template/normal.png'}\n",
            "{'plate_id': 'ลท 0121', 'province': 'ปราจีนบุรี', 'background': '/mnt/c/Users/teraw/Developer/projects/license_plate/template/temporary.png'}\n",
            "{'plate_id': 'ชท 5670', 'province': 'เพชรบุรี', 'background': '/mnt/c/Users/teraw/Developer/projects/license_plate/template/Nakorn Sawan.png'}\n",
            "{'plate_id': 'นค 6789', 'province': 'สมุทรสงคราม', 'background': '/mnt/c/Users/teraw/Developer/projects/license_plate/template/bangkok.png'}\n",
            "{'plate_id': 'ชท 8900', 'province': 'สุพรรณบุรี', 'background': '/mnt/c/Users/teraw/Developer/projects/license_plate/template/Ubon Rachathani.png'}\n",
            "{'plate_id': 'บจ 5673', 'province': 'สิงห์บุรี', 'background': '/mnt/c/Users/teraw/Developer/projects/license_plate/template/Buriram.png'}\n",
            "{'plate_id': 'ตง 0123', 'province': 'ปทุมธานี', 'background': '/mnt/c/Users/teraw/Developer/projects/license_plate/template/Nakorn Prathom.png'}\n",
            "{'plate_id': 'บง 4564', 'province': 'ประจวบคีรีขันธ์', 'background': '/mnt/c/Users/teraw/Developer/projects/license_plate/template/Suphanburi.png'}\n",
            "{'plate_id': 'ตข 0129', 'province': 'เชียงใหม่', 'background': '/mnt/c/Users/teraw/Developer/projects/license_plate/template/Suphanburi.png'}\n",
            "{'plate_id': 'ขร 2342', 'province': 'มุกดาหาร', 'background': '/mnt/c/Users/teraw/Developer/projects/license_plate/template/Roi Et.png'}\n",
            "{'plate_id': 'หง 2346', 'province': 'กาฬสินธุ์', 'background': '/mnt/c/Users/teraw/Developer/projects/license_plate/template/Nonthaburi.png'}\n",
            "{'plate_id': 'ทท 4562', 'province': 'นครพนม', 'background': '/mnt/c/Users/teraw/Developer/projects/license_plate/template/Buriram.png'}\n",
            "{'plate_id': 'ถน 8904กย 1239', 'province': 'แพร่', 'background': '/mnt/c/Users/teraw/Developer/projects/license_plate/template/Udon Thani.png'}\n",
            "{'plate_id': 'ชก 6785', 'province': 'ตราด', 'background': '/mnt/c/Users/teraw/Developer/projects/license_plate/template/Buriram.png'}\n",
            "{'plate_id': 'ชท 2348', 'province': 'สตูล', 'background': '/mnt/c/Users/teraw/Developer/projects/license_plate/template/Buriram.png'}\n",
            "{'plate_id': 'บง 4564', 'province': 'พระนครศรีอยุธยา', 'background': '/mnt/c/Users/teraw/Developer/projects/license_plate/template/Pathumthani.png'}\n",
            "{'plate_id': 'งข 6784', 'province': 'ปราจีนบุรี', 'background': '/mnt/c/Users/teraw/Developer/projects/license_plate/template/Nakorn Prathom.png'}\n",
            "{'plate_id': 'จท 9014', 'province': 'ลำปาง', 'background': '/mnt/c/Users/teraw/Developer/projects/license_plate/template/Nakorn Prathom.png'}\n",
            "{'plate_id': 'รย 1233', 'province': 'สุโขทัย', 'background': '/mnt/c/Users/teraw/Developer/projects/license_plate/template/Nakorn Sawan.png'}\n",
            "{'plate_id': 'รท 5679', 'province': 'สระบุรี', 'background': '/mnt/c/Users/teraw/Developer/projects/license_plate/template/Roi Et.png'}\n",
            "{'plate_id': 'ฟย 3451', 'province': 'มหาสารคาม', 'background': '/mnt/c/Users/teraw/Developer/projects/license_plate/template/Nonthaburi.png'}\n",
            "{'plate_id': 'ศช 4567', 'province': 'ชัยนาท', 'background': '/mnt/c/Users/teraw/Developer/projects/license_plate/template/Pathumthani.png'}\n",
            "{'plate_id': 'ยง 0123', 'province': 'นครพนม', 'background': '/mnt/c/Users/teraw/Developer/projects/license_plate/template/Roi Et.png'}\n",
            "{'plate_id': 'จน 8902', 'province': 'อุบลราชธานี', 'background': '/mnt/c/Users/teraw/Developer/projects/license_plate/template/Nonthaburi.png'}\n",
            "{'plate_id': 'ปน 9011', 'province': 'ตรัง', 'background': '/mnt/c/Users/teraw/Developer/projects/license_plate/template/Udon Thani.png'}\n",
            "{'plate_id': 'ทข 7898', 'province': 'สระแก้ว', 'background': '/mnt/c/Users/teraw/Developer/projects/license_plate/template/bangkok.png'}\n",
            "{'plate_id': 'ฟย 1236', 'province': 'ราชบุรี', 'background': '/mnt/c/Users/teraw/Developer/projects/license_plate/template/Pathumthani.png'}\n",
            "{'plate_id': 'ฟข 5678', 'province': 'บึงกาฬ', 'background': '/mnt/c/Users/teraw/Developer/projects/license_plate/template/Petchaburi.png'}\n",
            "{'plate_id': 'นง 2348', 'province': 'พระนครศรีอยุธยา', 'background': '/mnt/c/Users/teraw/Developer/projects/license_plate/template/Nonthaburi.png'}\n",
            "{'plate_id': 'ทข 7898', 'province': 'ภูเก็ต', 'background': '/mnt/c/Users/teraw/Developer/projects/license_plate/template/Chiang Rai.png'}\n",
            "{'plate_id': 'ทก 7895', 'province': 'แพร่', 'background': '/mnt/c/Users/teraw/Developer/projects/license_plate/template/Suphanburi.png'}\n",
            "{'plate_id': 'จน 1238', 'province': 'ตาก', 'background': '/mnt/c/Users/teraw/Developer/projects/license_plate/template/bangkok.png'}\n",
            "{'plate_id': 'ขจ 2341', 'province': 'สงขลา', 'background': '/mnt/c/Users/teraw/Developer/projects/license_plate/template/Nonthaburi.png'}\n",
            "{'plate_id': 'จน 1239', 'province': 'อุตรดิตถ์', 'background': '/mnt/c/Users/teraw/Developer/projects/license_plate/template/Nakorn Prathom.png'}\n",
            "{'plate_id': 'ทน 2346', 'province': 'อุตรดิตถ์', 'background': '/mnt/c/Users/teraw/Developer/projects/license_plate/template/Petchaburi.png'}\n",
            "{'plate_id': 'หท 4562', 'province': 'นครพนม', 'background': '/mnt/c/Users/teraw/Developer/projects/license_plate/template/Chiang Rai.png'}\n",
            "{'plate_id': 'ปง 5670', 'province': 'กรุงเทพมหานคร', 'background': '/mnt/c/Users/teraw/Developer/projects/license_plate/template/Chiang Rai.png'}\n",
            "{'plate_id': 'วด 0123', 'province': 'แม่ฮ่องสอน', 'background': '/mnt/c/Users/teraw/Developer/projects/license_plate/template/temporary.png'}\n",
            "{'plate_id': 'ลน 8907', 'province': 'ลำพูน', 'background': '/mnt/c/Users/teraw/Developer/projects/license_plate/template/Nonthaburi.png'}\n",
            "{'plate_id': 'ฟข 5672', 'province': 'ฉะเชิงเทรา', 'background': '/mnt/c/Users/teraw/Developer/projects/license_plate/template/normal.png'}\n",
            "{'plate_id': 'งท 9018', 'province': 'สมุทรสาคร', 'background': '/mnt/c/Users/teraw/Developer/projects/license_plate/template/Roi Et.png'}\n",
            "{'plate_id': 'จก 1235', 'province': 'สตูล', 'background': '/mnt/c/Users/teraw/Developer/projects/license_plate/template/Petchaburi.png'}\n",
            "{'plate_id': 'ยง 0123', 'province': 'ฉะเชิงเทรา', 'background': '/mnt/c/Users/teraw/Developer/projects/license_plate/template/Chiang Rai.png'}\n",
            "{'plate_id': 'ลน 8907', 'province': 'หนองคาย', 'background': '/mnt/c/Users/teraw/Developer/projects/license_plate/template/Suphanburi.png'}\n",
            "{'plate_id': 'ลท 0121', 'province': 'สมุทรสาคร', 'background': '/mnt/c/Users/teraw/Developer/projects/license_plate/template/Nakorn Sawan.png'}\n",
            "{'plate_id': 'จน 8900', 'province': 'พิจิตร', 'background': '/mnt/c/Users/teraw/Developer/projects/license_plate/template/Buriram.png'}\n",
            "{'plate_id': 'ลข 8905', 'province': 'พังงา', 'background': '/mnt/c/Users/teraw/Developer/projects/license_plate/template/Nakorn Prathom.png'}\n",
            "{'plate_id': 'ถน 5679', 'province': 'สระบุรี', 'background': '/mnt/c/Users/teraw/Developer/projects/license_plate/template/Suphanburi.png'}\n",
            "{'plate_id': 'ยก 0126', 'province': 'ประจวบคีรีขันธ์', 'background': '/mnt/c/Users/teraw/Developer/projects/license_plate/template/Chiang Rai.png'}\n",
            "{'plate_id': 'งข 3453', 'province': 'น่าน', 'background': '/mnt/c/Users/teraw/Developer/projects/license_plate/template/temporary.png'}\n",
            "{'plate_id': 'ศน 6789', 'province': 'นครสวรรค์', 'background': '/mnt/c/Users/teraw/Developer/projects/license_plate/template/Petchaburi.png'}\n",
            "{'plate_id': 'หท 4562', 'province': 'สระแก้ว', 'background': '/mnt/c/Users/teraw/Developer/projects/license_plate/template/normal.png'}\n",
            "{'plate_id': 'ลน 5672', 'province': 'ปัตตานี', 'background': '/mnt/c/Users/teraw/Developer/projects/license_plate/template/Nonthaburi.png'}\n",
            "{'plate_id': 'ลข 6783', 'province': 'สุราษฎร์ธานี', 'background': '/mnt/c/Users/teraw/Developer/projects/license_plate/template/Buriram.png'}\n",
            "{'plate_id': 'ชท 7890', 'province': 'ฉะเชิงเทรา', 'background': '/mnt/c/Users/teraw/Developer/projects/license_plate/template/Nakorn Prathom.png'}\n",
            "{'plate_id': 'ตจ 2341', 'province': 'สุพรรณบุรี', 'background': '/mnt/c/Users/teraw/Developer/projects/license_plate/template/Chiang Rai.png'}\n",
            "{'plate_id': 'รก 3455', 'province': 'สระแก้ว', 'background': '/mnt/c/Users/teraw/Developer/projects/license_plate/template/Petchaburi.png'}\n",
            "{'plate_id': 'ฟย 3451', 'province': 'หนองบัวลำภู', 'background': '/mnt/c/Users/teraw/Developer/projects/license_plate/template/normal.png'}\n",
            "{'plate_id': 'ทท 3450', 'province': 'ลพบุรี', 'background': '/mnt/c/Users/teraw/Developer/projects/license_plate/template/Ubon Rachathani.png'}\n",
            "{'plate_id': 'ธง 0123', 'province': 'ระนอง', 'background': '/mnt/c/Users/teraw/Developer/projects/license_plate/template/Nonthaburi.png'}\n",
            "{'plate_id': 'พท 6789', 'province': 'ศรีสะเกษ', 'background': '/mnt/c/Users/teraw/Developer/projects/license_plate/template/normal.png'}\n",
            "{'plate_id': 'ดท 0128', 'province': 'ชุมพร', 'background': '/mnt/c/Users/teraw/Developer/projects/license_plate/template/Petchaburi.png'}\n",
            "{'plate_id': 'บง 7894', 'province': 'เลย', 'background': '/mnt/c/Users/teraw/Developer/projects/license_plate/template/Ubon Rachathani.png'}\n",
            "{'plate_id': 'ลก 5678', 'province': 'อุบลราชธานี', 'background': '/mnt/c/Users/teraw/Developer/projects/license_plate/template/Nakorn Sawan.png'}\n",
            "{'plate_id': 'งน 0129', 'province': 'ปัตตานี', 'background': '/mnt/c/Users/teraw/Developer/projects/license_plate/template/Petchaburi.png'}\n",
            "{'plate_id': 'ขย 6789', 'province': 'เพชรบุรี', 'background': '/mnt/c/Users/teraw/Developer/projects/license_plate/template/Buriram.png'}\n",
            "{'plate_id': 'กง 8906', 'province': 'นครราชสีมา', 'background': '/mnt/c/Users/teraw/Developer/projects/license_plate/template/Nonthaburi.png'}\n",
            "{'plate_id': 'นน 9015', 'province': 'ชลบุรี', 'background': '/mnt/c/Users/teraw/Developer/projects/license_plate/template/bangkok.png'}\n",
            "{'plate_id': 'ศท 1238', 'province': 'ศรีสะเกษ', 'background': '/mnt/c/Users/teraw/Developer/projects/license_plate/template/normal.png'}\n",
            "{'plate_id': 'ยน 8904', 'province': 'ภูเก็ต', 'background': '/mnt/c/Users/teraw/Developer/projects/license_plate/template/Suphanburi.png'}\n",
            "{'plate_id': 'พท 1236', 'province': 'กรุงเทพมหานคร', 'background': '/mnt/c/Users/teraw/Developer/projects/license_plate/template/Pathumthani.png'}\n",
            "{'plate_id': 'ขท 4560', 'province': 'นครนายก', 'background': '/mnt/c/Users/teraw/Developer/projects/license_plate/template/Udon Thani.png'}\n",
            "{'plate_id': 'รน 3454', 'province': 'สกลนคร', 'background': '/mnt/c/Users/teraw/Developer/projects/license_plate/template/Petchaburi.png'}\n",
            "{'plate_id': 'ชข 7893', 'province': 'หนองคาย', 'background': '/mnt/c/Users/teraw/Developer/projects/license_plate/template/Chiang Rai.png'}\n",
            "{'plate_id': 'ขง 4566', 'province': 'กำแพงเพชร', 'background': '/mnt/c/Users/teraw/Developer/projects/license_plate/template/Pathumthani.png'}\n",
            "{'plate_id': 'บย 1236', 'province': 'ชัยนาท', 'background': '/mnt/c/Users/teraw/Developer/projects/license_plate/template/normal.png'}\n",
            "{'plate_id': 'รย 1233', 'province': 'สมุทรสาคร', 'background': '/mnt/c/Users/teraw/Developer/projects/license_plate/template/Nonthaburi.png'}\n",
            "{'plate_id': 'จน 1237', 'province': 'แม่ฮ่องสอน', 'background': '/mnt/c/Users/teraw/Developer/projects/license_plate/template/normal.png'}\n",
            "{'plate_id': 'ทข 7898', 'province': 'พังงา', 'background': '/mnt/c/Users/teraw/Developer/projects/license_plate/template/Ubon Rachathani.png'}\n",
            "{'plate_id': 'ดง 8905', 'province': 'ตราด', 'background': '/mnt/c/Users/teraw/Developer/projects/license_plate/template/Pathumthani.png'}\n",
            "{'plate_id': 'นน 8904', 'province': 'ปัตตานี', 'background': '/mnt/c/Users/teraw/Developer/projects/license_plate/template/Nakorn Prathom.png'}\n",
            "{'plate_id': 'นย 6783', 'province': 'ภูเก็ต', 'background': '/mnt/c/Users/teraw/Developer/projects/license_plate/template/bangkok.png'}\n",
            "{'plate_id': 'กจ 3458', 'province': 'น่าน', 'background': '/mnt/c/Users/teraw/Developer/projects/license_plate/template/bangkok.png'}\n",
            "{'plate_id': 'วน 7897', 'province': 'สตูล', 'background': '/mnt/c/Users/teraw/Developer/projects/license_plate/template/Chiang Rai.png'}\n",
            "{'plate_id': 'บย 1236', 'province': 'นครปฐม', 'background': '/mnt/c/Users/teraw/Developer/projects/license_plate/template/Suphanburi.png'}\n",
            "{'plate_id': 'จน 0126', 'province': 'ลำพูน', 'background': '/mnt/c/Users/teraw/Developer/projects/license_plate/template/temporary.png'}\n",
            "{'plate_id': 'ทน 2341', 'province': 'สิงห์บุรี', 'background': '/mnt/c/Users/teraw/Developer/projects/license_plate/template/Roi Et.png'}\n",
            "{'plate_id': 'บก 4562', 'province': 'พังงา', 'background': '/mnt/c/Users/teraw/Developer/projects/license_plate/template/Pathumthani.png'}\n",
            "{'plate_id': 'พท 6789', 'province': 'พะเยา', 'background': '/mnt/c/Users/teraw/Developer/projects/license_plate/template/Buriram.png'}\n",
            "{'plate_id': 'ฟง 8907', 'province': 'สงขลา', 'background': '/mnt/c/Users/teraw/Developer/projects/license_plate/template/Petchaburi.png'}\n",
            "{'plate_id': 'ยข 5674', 'province': 'ชัยนาท', 'background': '/mnt/c/Users/teraw/Developer/projects/license_plate/template/Buriram.png'}\n",
            "{'plate_id': 'รข 7891', 'province': 'สงขลา', 'background': '/mnt/c/Users/teraw/Developer/projects/license_plate/template/Nakorn Sawan.png'}\n",
            "{'plate_id': 'ขน 8902', 'province': 'สิงห์บุรี', 'background': '/mnt/c/Users/teraw/Developer/projects/license_plate/template/Roi Et.png'}\n",
            "{'plate_id': 'ขท 1234', 'province': 'อุดรธานี', 'background': '/mnt/c/Users/teraw/Developer/projects/license_plate/template/Nonthaburi.png'}\n",
            "{'plate_id': 'ศน 6789', 'province': 'จันทบุรี', 'background': '/mnt/c/Users/teraw/Developer/projects/license_plate/template/bangkok.png'}\n",
            "{'plate_id': 'จก 3456', 'province': 'บึงกาฬ', 'background': '/mnt/c/Users/teraw/Developer/projects/license_plate/template/Roi Et.png'}\n",
            "{'plate_id': 'ดท 2343', 'province': 'ลำพูน', 'background': '/mnt/c/Users/teraw/Developer/projects/license_plate/template/bangkok.png'}\n",
            "{'plate_id': 'ศย 5678', 'province': 'สมุทรสงคราม', 'background': '/mnt/c/Users/teraw/Developer/projects/license_plate/template/Petchaburi.png'}\n",
            "{'plate_id': 'หจ 2344', 'province': 'ตาก', 'background': '/mnt/c/Users/teraw/Developer/projects/license_plate/template/Suphanburi.png'}\n",
            "{'plate_id': 'ฟท 3453', 'province': 'แม่ฮ่องสอน', 'background': '/mnt/c/Users/teraw/Developer/projects/license_plate/template/Nakorn Sawan.png'}\n",
            "{'plate_id': 'บม 5670', 'province': 'เพชรบุรี', 'background': '/mnt/c/Users/teraw/Developer/projects/license_plate/template/Roi Et.png'}\n",
            "{'plate_id': 'ปท 3454', 'province': 'สุราษฎร์ธานี', 'background': '/mnt/c/Users/teraw/Developer/projects/license_plate/template/Udon Thani.png'}\n",
            "{'plate_id': 'จน 5672', 'province': 'สมุทรสงคราม', 'background': '/mnt/c/Users/teraw/Developer/projects/license_plate/template/Roi Et.png'}\n",
            "{'plate_id': 'ยข 5674', 'province': 'มหาสารคาม', 'background': '/mnt/c/Users/teraw/Developer/projects/license_plate/template/temporary.png'}\n",
            "{'plate_id': 'ฟท 8902', 'province': 'น่าน', 'background': '/mnt/c/Users/teraw/Developer/projects/license_plate/template/Nakorn Prathom.png'}\n",
            "{'plate_id': 'รก 3457', 'province': 'แม่ฮ่องสอน', 'background': '/mnt/c/Users/teraw/Developer/projects/license_plate/template/Nakorn Sawan.png'}\n",
            "{'plate_id': 'รท 2341', 'province': 'สุโขทัย', 'background': '/mnt/c/Users/teraw/Developer/projects/license_plate/template/normal.png'}\n",
            "{'plate_id': 'ขน 2345', 'province': 'เพชรบูรณ์', 'background': '/mnt/c/Users/teraw/Developer/projects/license_plate/template/normal.png'}\n",
            "{'plate_id': 'ปจ 5679', 'province': 'ตรัง', 'background': '/mnt/c/Users/teraw/Developer/projects/license_plate/template/temporary.png'}\n",
            "{'plate_id': 'งก 6787', 'province': 'พระนครศรีอยุธยา', 'background': '/mnt/c/Users/teraw/Developer/projects/license_plate/template/Pathumthani.png'}\n",
            "{'plate_id': 'ยน 0124', 'province': 'ฉะเชิงเทรา', 'background': '/mnt/c/Users/teraw/Developer/projects/license_plate/template/temporary.png'}\n",
            "{'plate_id': 'งจ 8903', 'province': 'สกลนคร', 'background': '/mnt/c/Users/teraw/Developer/projects/license_plate/template/Chiang Rai.png'}\n",
            "{'plate_id': 'ดท 0128', 'province': 'ลำปาง', 'background': '/mnt/c/Users/teraw/Developer/projects/license_plate/template/Nakorn Prathom.png'}\n",
            "{'plate_id': 'บง 6780', 'province': 'กระบี่', 'background': '/mnt/c/Users/teraw/Developer/projects/license_plate/template/Roi Et.png'}\n",
            "{'plate_id': 'วน 7891', 'province': 'สระบุรี', 'background': '/mnt/c/Users/teraw/Developer/projects/license_plate/template/temporary.png'}\n",
            "{'plate_id': 'บง 6786', 'province': 'ชัยภูมิ', 'background': '/mnt/c/Users/teraw/Developer/projects/license_plate/template/Buriram.png'}\n",
            "{'plate_id': 'จก 5671', 'province': 'นครปฐม', 'background': '/mnt/c/Users/teraw/Developer/projects/license_plate/template/temporary.png'}\n",
            "{'plate_id': 'จข 5676', 'province': 'น่าน', 'background': '/mnt/c/Users/teraw/Developer/projects/license_plate/template/Nonthaburi.png'}\n",
            "{'plate_id': 'งท 7898', 'province': 'น่าน', 'background': '/mnt/c/Users/teraw/Developer/projects/license_plate/template/Suphanburi.png'}\n",
            "{'plate_id': 'ลน 9019', 'province': 'อุดรธานี', 'background': '/mnt/c/Users/teraw/Developer/projects/license_plate/template/Nakorn Sawan.png'}\n",
            "{'plate_id': 'ดข 5671', 'province': 'ตาก', 'background': '/mnt/c/Users/teraw/Developer/projects/license_plate/template/Nakorn Prathom.png'}\n",
            "{'plate_id': 'นง 2348', 'province': 'สุโขทัย', 'background': '/mnt/c/Users/teraw/Developer/projects/license_plate/template/Nonthaburi.png'}\n",
            "{'plate_id': 'ยง 7895', 'province': 'พังงา', 'background': '/mnt/c/Users/teraw/Developer/projects/license_plate/template/Ubon Rachathani.png'}\n",
            "{'plate_id': 'ฟท 1234', 'province': 'พัทลุง', 'background': '/mnt/c/Users/teraw/Developer/projects/license_plate/template/Chiang Rai.png'}\n",
            "{'plate_id': 'บก 4562', 'province': 'ประจวบคีรีขันธ์', 'background': '/mnt/c/Users/teraw/Developer/projects/license_plate/template/Udon Thani.png'}\n",
            "{'plate_id': 'จย 0125', 'province': 'ประจวบคีรีขันธ์', 'background': '/mnt/c/Users/teraw/Developer/projects/license_plate/template/temporary.png'}\n",
            "{'plate_id': 'งย 9012', 'province': 'นครสวรรค์', 'background': '/mnt/c/Users/teraw/Developer/projects/license_plate/template/Roi Et.png'}\n",
            "{'plate_id': 'ยน 3456', 'province': 'เพชรบูรณ์', 'background': '/mnt/c/Users/teraw/Developer/projects/license_plate/template/Buriram.png'}\n",
            "{'plate_id': 'จข 5676', 'province': 'เชียงใหม่', 'background': '/mnt/c/Users/teraw/Developer/projects/license_plate/template/temporary.png'}\n",
            "{'plate_id': 'ขร 2342', 'province': 'ประจวบคีรีขันธ์', 'background': '/mnt/c/Users/teraw/Developer/projects/license_plate/template/normal.png'}\n",
            "{'plate_id': 'ชง 7894', 'province': 'นครพนม', 'background': '/mnt/c/Users/teraw/Developer/projects/license_plate/template/Nakorn Prathom.png'}\n",
            "{'plate_id': 'รย 1233', 'province': 'หนองบัวลำภู', 'background': '/mnt/c/Users/teraw/Developer/projects/license_plate/template/Chiang Rai.png'}\n",
            "{'plate_id': 'ฟท 8906', 'province': 'สตูล', 'background': '/mnt/c/Users/teraw/Developer/projects/license_plate/template/Petchaburi.png'}\n",
            "{'plate_id': 'ดท 0128', 'province': 'ลำพูน', 'background': '/mnt/c/Users/teraw/Developer/projects/license_plate/template/Nakorn Prathom.png'}\n",
            "{'plate_id': 'ปจ 3456', 'province': 'อุบลราชธานี', 'background': '/mnt/c/Users/teraw/Developer/projects/license_plate/template/Nakorn Sawan.png'}\n",
            "{'plate_id': 'บข 8907', 'province': 'ยะลา', 'background': '/mnt/c/Users/teraw/Developer/projects/license_plate/template/Nakorn Sawan.png'}\n",
            "{'plate_id': 'ตง 5679', 'province': 'อุดรธานี', 'background': '/mnt/c/Users/teraw/Developer/projects/license_plate/template/Roi Et.png'}\n",
            "{'plate_id': 'ธง 0123', 'province': 'อำนาจเจริญ', 'background': '/mnt/c/Users/teraw/Developer/projects/license_plate/template/Nakorn Prathom.png'}\n",
            "{'plate_id': 'ทข 9013', 'province': 'สมุทรสาคร', 'background': '/mnt/c/Users/teraw/Developer/projects/license_plate/template/temporary.png'}\n",
            "{'plate_id': 'ทง 3458', 'province': 'นครปฐม', 'background': '/mnt/c/Users/teraw/Developer/projects/license_plate/template/Nakorn Prathom.png'}\n",
            "{'plate_id': 'ฟจ 4567', 'province': 'มุกดาหาร', 'background': '/mnt/c/Users/teraw/Developer/projects/license_plate/template/Chiang Rai.png'}\n",
            "{'plate_id': 'บช 5671', 'province': 'นครปฐม', 'background': '/mnt/c/Users/teraw/Developer/projects/license_plate/template/Chiang Rai.png'}\n",
            "{'plate_id': 'ศข 3459', 'province': 'นครนายก', 'background': '/mnt/c/Users/teraw/Developer/projects/license_plate/template/Roi Et.png'}\n",
            "{'plate_id': 'พห 7896', 'province': 'นครนายก', 'background': '/mnt/c/Users/teraw/Developer/projects/license_plate/template/Suphanburi.png'}\n",
            "{'plate_id': 'ฬด 9012', 'province': 'ตรัง', 'background': '/mnt/c/Users/teraw/Developer/projects/license_plate/template/Nakorn Sawan.png'}\n",
            "{'plate_id': 'ศท 0124', 'province': 'น่าน', 'background': '/mnt/c/Users/teraw/Developer/projects/license_plate/template/Nonthaburi.png'}\n",
            "{'plate_id': 'ดท 2343', 'province': 'ชัยภูมิ', 'background': '/mnt/c/Users/teraw/Developer/projects/license_plate/template/Buriram.png'}\n",
            "{'plate_id': 'ชท 4569', 'province': 'ชลบุรี', 'background': '/mnt/c/Users/teraw/Developer/projects/license_plate/template/normal.png'}\n",
            "{'plate_id': 'พท 6789', 'province': 'อำนาจเจริญ', 'background': '/mnt/c/Users/teraw/Developer/projects/license_plate/template/Nakorn Prathom.png'}\n",
            "{'plate_id': 'ดจ 0126', 'province': 'กาฬสินธุ์', 'background': '/mnt/c/Users/teraw/Developer/projects/license_plate/template/Ubon Rachathani.png'}\n",
            "{'plate_id': 'หง 5673', 'province': 'เพชรบูรณ์', 'background': '/mnt/c/Users/teraw/Developer/projects/license_plate/template/Pathumthani.png'}\n",
            "{'plate_id': 'ศจ 0127', 'province': 'สระบุรี', 'background': '/mnt/c/Users/teraw/Developer/projects/license_plate/template/Ubon Rachathani.png'}\n",
            "{'plate_id': 'พน 7895', 'province': 'สุรินทร์', 'background': '/mnt/c/Users/teraw/Developer/projects/license_plate/template/temporary.png'}\n",
            "{'plate_id': 'หจ 2344', 'province': 'อุทัยธานี', 'background': '/mnt/c/Users/teraw/Developer/projects/license_plate/template/Ubon Rachathani.png'}\n",
            "{'plate_id': 'ชก 3456', 'province': 'ชัยภูมิ', 'background': '/mnt/c/Users/teraw/Developer/projects/license_plate/template/Nonthaburi.png'}\n",
            "{'plate_id': 'ศย 5674', 'province': 'กาญจนบุรี', 'background': '/mnt/c/Users/teraw/Developer/projects/license_plate/template/Chiang Rai.png'}\n",
            "{'plate_id': 'ถน 5679', 'province': 'นครนายก', 'background': '/mnt/c/Users/teraw/Developer/projects/license_plate/template/Roi Et.png'}\n",
            "{'plate_id': 'หง 4569', 'province': 'ระนอง', 'background': '/mnt/c/Users/teraw/Developer/projects/license_plate/template/Nakorn Sawan.png'}\n",
            "{'plate_id': 'ยร 6784', 'province': 'กรุงเทพมหานคร', 'background': '/mnt/c/Users/teraw/Developer/projects/license_plate/template/Nakorn Sawan.png'}\n",
            "{'plate_id': 'ยง 1239', 'province': 'ประจวบคีรีขันธ์', 'background': '/mnt/c/Users/teraw/Developer/projects/license_plate/template/Suphanburi.png'}\n",
            "{'plate_id': 'จก 7892', 'province': 'บึงกาฬ', 'background': '/mnt/c/Users/teraw/Developer/projects/license_plate/template/Nakorn Sawan.png'}\n",
            "{'plate_id': 'นร 5675', 'province': 'ปทุมธานี', 'background': '/mnt/c/Users/teraw/Developer/projects/license_plate/template/Chiang Rai.png'}\n",
            "{'plate_id': 'ขย 1238', 'province': 'นราธิวาส', 'background': '/mnt/c/Users/teraw/Developer/projects/license_plate/template/Suphanburi.png'}\n",
            "{'plate_id': 'ดข 3450', 'province': 'สระบุรี', 'background': '/mnt/c/Users/teraw/Developer/projects/license_plate/template/Chiang Rai.png'}\n",
            "{'plate_id': 'ฟข 2348', 'province': 'พิจิตร', 'background': '/mnt/c/Users/teraw/Developer/projects/license_plate/template/Roi Et.png'}\n",
            "{'plate_id': 'จน 0126', 'province': 'นครศรีธรรมราช', 'background': '/mnt/c/Users/teraw/Developer/projects/license_plate/template/Nakorn Prathom.png'}\n",
            "{'plate_id': 'ฟก 3451', 'province': 'สุราษฎร์ธานี', 'background': '/mnt/c/Users/teraw/Developer/projects/license_plate/template/normal.png'}\n",
            "{'plate_id': 'ขร 2342', 'province': 'น่าน', 'background': '/mnt/c/Users/teraw/Developer/projects/license_plate/template/Pathumthani.png'}\n",
            "{'plate_id': 'ธน 1234', 'province': 'แพร่', 'background': '/mnt/c/Users/teraw/Developer/projects/license_plate/template/Nonthaburi.png'}\n",
            "{'plate_id': 'ทน 1234', 'province': 'ร้อยเอ็ด', 'background': '/mnt/c/Users/teraw/Developer/projects/license_plate/template/Ubon Rachathani.png'}\n",
            "{'plate_id': 'บข 5672', 'province': 'แม่ฮ่องสอน', 'background': '/mnt/c/Users/teraw/Developer/projects/license_plate/template/Petchaburi.png'}\n",
            "{'plate_id': 'ฟท 1234', 'province': 'พะเยา', 'background': '/mnt/c/Users/teraw/Developer/projects/license_plate/template/Petchaburi.png'}\n",
            "{'plate_id': 'ปน 9011', 'province': 'สงขลา', 'background': '/mnt/c/Users/teraw/Developer/projects/license_plate/template/normal.png'}\n",
            "{'plate_id': 'ผน 0127', 'province': 'สุรินทร์', 'background': '/mnt/c/Users/teraw/Developer/projects/license_plate/template/Chiang Rai.png'}\n",
            "{'plate_id': 'นท 5673', 'province': 'พังงา', 'background': '/mnt/c/Users/teraw/Developer/projects/license_plate/template/Nonthaburi.png'}\n",
            "{'plate_id': 'ยด 3453', 'province': 'ชัยนาท', 'background': '/mnt/c/Users/teraw/Developer/projects/license_plate/template/normal.png'}\n",
            "{'plate_id': 'บง 6780', 'province': 'สุราษฎร์ธานี', 'background': '/mnt/c/Users/teraw/Developer/projects/license_plate/template/bangkok.png'}\n",
            "{'plate_id': 'กย 7891', 'province': 'สุราษฎร์ธานี', 'background': '/mnt/c/Users/teraw/Developer/projects/license_plate/template/Petchaburi.png'}\n",
            "{'plate_id': 'นน 4561', 'province': 'สงขลา', 'background': '/mnt/c/Users/teraw/Developer/projects/license_plate/template/Chiang Rai.png'}\n",
            "{'plate_id': 'รท 5679', 'province': 'พิษณุโลก', 'background': '/mnt/c/Users/teraw/Developer/projects/license_plate/template/Nakorn Prathom.png'}\n",
            "{'plate_id': 'บง 4564', 'province': 'สมุทรสงคราม', 'background': '/mnt/c/Users/teraw/Developer/projects/license_plate/template/Pathumthani.png'}\n",
            "{'plate_id': 'พท 1236', 'province': 'ชัยนาท', 'background': '/mnt/c/Users/teraw/Developer/projects/license_plate/template/normal.png'}\n",
            "{'plate_id': 'ชย 3456', 'province': 'สระแก้ว', 'background': '/mnt/c/Users/teraw/Developer/projects/license_plate/template/Ubon Rachathani.png'}\n",
            "{'plate_id': 'ลก 5678', 'province': 'นครนายก', 'background': '/mnt/c/Users/teraw/Developer/projects/license_plate/template/Chiang Rai.png'}\n",
            "{'plate_id': 'จก 6785', 'province': 'ลำปาง', 'background': '/mnt/c/Users/teraw/Developer/projects/license_plate/template/temporary.png'}\n",
            "{'plate_id': 'ศย 5674', 'province': 'ชัยภูมิ', 'background': '/mnt/c/Users/teraw/Developer/projects/license_plate/template/Roi Et.png'}\n",
            "{'plate_id': 'ลข 9016', 'province': 'ปราจีนบุรี', 'background': '/mnt/c/Users/teraw/Developer/projects/license_plate/template/Roi Et.png'}\n",
            "{'plate_id': 'ชค 7890', 'province': 'มหาสารคาม', 'background': '/mnt/c/Users/teraw/Developer/projects/license_plate/template/Udon Thani.png'}\n",
            "{'plate_id': 'ศง 3459', 'province': 'สกลนคร', 'background': '/mnt/c/Users/teraw/Developer/projects/license_plate/template/bangkok.png'}\n",
            "{'plate_id': 'ตจ 2341', 'province': 'อุทัยธานี', 'background': '/mnt/c/Users/teraw/Developer/projects/license_plate/template/temporary.png'}\n",
            "{'plate_id': 'บง 7894', 'province': 'เพชรบุรี', 'background': '/mnt/c/Users/teraw/Developer/projects/license_plate/template/Petchaburi.png'}\n",
            "{'plate_id': 'ยน 0124', 'province': 'นครปฐม', 'background': '/mnt/c/Users/teraw/Developer/projects/license_plate/template/Nonthaburi.png'}\n",
            "{'plate_id': 'ทท 4562', 'province': 'ตรัง', 'background': '/mnt/c/Users/teraw/Developer/projects/license_plate/template/Nakorn Prathom.png'}\n",
            "{'plate_id': 'กท 1232', 'province': 'พระนครศรีอยุธยา', 'background': '/mnt/c/Users/teraw/Developer/projects/license_plate/template/bangkok.png'}\n",
            "{'plate_id': 'ธน 1234', 'province': 'มุกดาหาร', 'background': '/mnt/c/Users/teraw/Developer/projects/license_plate/template/Petchaburi.png'}\n",
            "{'plate_id': 'พห 7896', 'province': 'ร้อยเอ็ด', 'background': '/mnt/c/Users/teraw/Developer/projects/license_plate/template/bangkok.png'}\n",
            "{'plate_id': 'พก 6781', 'province': 'นนทบุรี', 'background': '/mnt/c/Users/teraw/Developer/projects/license_plate/template/temporary.png'}\n",
            "{'plate_id': 'ศน 6789', 'province': 'สุโขทัย', 'background': '/mnt/c/Users/teraw/Developer/projects/license_plate/template/Nonthaburi.png'}\n",
            "{'plate_id': 'ตน 0120', 'province': 'สมุทรปราการ', 'background': '/mnt/c/Users/teraw/Developer/projects/license_plate/template/Udon Thani.png'}\n",
            "{'plate_id': 'ลน 8907', 'province': 'พังงา', 'background': '/mnt/c/Users/teraw/Developer/projects/license_plate/template/Nonthaburi.png'}\n",
            "{'plate_id': 'ทน 2346', 'province': 'สระแก้ว', 'background': '/mnt/c/Users/teraw/Developer/projects/license_plate/template/Chiang Rai.png'}\n",
            "{'plate_id': 'ฟข 5672', 'province': 'บึงกาฬ', 'background': '/mnt/c/Users/teraw/Developer/projects/license_plate/template/bangkok.png'}\n",
            "{'plate_id': 'จก 3456', 'province': 'กรุงเทพมหานคร', 'background': '/mnt/c/Users/teraw/Developer/projects/license_plate/template/Nakorn Sawan.png'}\n",
            "{'plate_id': 'ลค 2342', 'province': 'นนทบุรี', 'background': '/mnt/c/Users/teraw/Developer/projects/license_plate/template/Suphanburi.png'}\n",
            "{'plate_id': 'งร 7897', 'province': 'สมุทรสงคราม', 'background': '/mnt/c/Users/teraw/Developer/projects/license_plate/template/temporary.png'}\n",
            "{'plate_id': 'ศก 0128', 'province': 'เพชรบูรณ์', 'background': '/mnt/c/Users/teraw/Developer/projects/license_plate/template/Chiang Rai.png'}\n",
            "{'plate_id': 'ชร 2349', 'province': 'ราชบุรี', 'background': '/mnt/c/Users/teraw/Developer/projects/license_plate/template/Nakorn Prathom.png'}\n",
            "{'plate_id': 'นน 9015', 'province': 'ยะลา', 'background': '/mnt/c/Users/teraw/Developer/projects/license_plate/template/temporary.png'}\n",
            "{'plate_id': 'ยท 4563', 'province': 'บึงกาฬ', 'background': '/mnt/c/Users/teraw/Developer/projects/license_plate/template/Chiang Rai.png'}\n",
            "{'plate_id': 'จก 3456', 'province': 'สงขลา', 'background': '/mnt/c/Users/teraw/Developer/projects/license_plate/template/Petchaburi.png'}\n",
            "{'plate_id': 'ยง 1239', 'province': 'ภูเก็ต', 'background': '/mnt/c/Users/teraw/Developer/projects/license_plate/template/Nakorn Sawan.png'}\n",
            "{'plate_id': 'บข 6786', 'province': 'เพชรบูรณ์', 'background': '/mnt/c/Users/teraw/Developer/projects/license_plate/template/Nakorn Sawan.png'}\n",
            "{'plate_id': 'จน 8908', 'province': 'นครสวรรค์', 'background': '/mnt/c/Users/teraw/Developer/projects/license_plate/template/normal.png'}\n",
            "{'plate_id': 'ลน 5672', 'province': 'จันทบุรี', 'background': '/mnt/c/Users/teraw/Developer/projects/license_plate/template/Nakorn Prathom.png'}\n",
            "{'plate_id': 'จก 6782', 'province': 'สิงห์บุรี', 'background': '/mnt/c/Users/teraw/Developer/projects/license_plate/template/normal.png'}\n",
            "{'plate_id': 'งก 6787', 'province': 'พิจิตร', 'background': '/mnt/c/Users/teraw/Developer/projects/license_plate/template/Nonthaburi.png'}\n",
            "{'plate_id': 'งข 3453', 'province': 'ยะลา', 'background': '/mnt/c/Users/teraw/Developer/projects/license_plate/template/Nakorn Prathom.png'}\n",
            "{'plate_id': 'ถข 8901', 'province': 'นครสวรรค์', 'background': '/mnt/c/Users/teraw/Developer/projects/license_plate/template/Roi Et.png'}\n",
            "{'plate_id': 'พจ 3452', 'province': 'สมุทรสงคราม', 'background': '/mnt/c/Users/teraw/Developer/projects/license_plate/template/normal.png'}\n",
            "{'plate_id': 'ยน 6786', 'province': 'ระยอง', 'background': '/mnt/c/Users/teraw/Developer/projects/license_plate/template/normal.png'}\n",
            "{'plate_id': 'พข 0126', 'province': 'นครพนม', 'background': '/mnt/c/Users/teraw/Developer/projects/license_plate/template/Buriram.png'}\n",
            "{'plate_id': 'ชย 4563', 'province': 'ขอนแก่น', 'background': '/mnt/c/Users/teraw/Developer/projects/license_plate/template/Chiang Rai.png'}\n",
            "{'plate_id': 'ฟข 3455', 'province': 'เพชรบูรณ์', 'background': '/mnt/c/Users/teraw/Developer/projects/license_plate/template/normal.png'}\n",
            "{'plate_id': 'รข 3457', 'province': 'ประจวบคีรีขันธ์', 'background': '/mnt/c/Users/teraw/Developer/projects/license_plate/template/Nakorn Prathom.png'}\n",
            "{'plate_id': 'นร 5675', 'province': 'สมุทรปราการ', 'background': '/mnt/c/Users/teraw/Developer/projects/license_plate/template/Pathumthani.png'}\n",
            "{'plate_id': 'ชย 4563', 'province': 'อ่างทอง', 'background': '/mnt/c/Users/teraw/Developer/projects/license_plate/template/Nakorn Sawan.png'}\n",
            "{'plate_id': 'รก 3455', 'province': 'นราธิวาส', 'background': '/mnt/c/Users/teraw/Developer/projects/license_plate/template/Nonthaburi.png'}\n",
            "{'plate_id': 'ทน 5671', 'province': 'ตราด', 'background': '/mnt/c/Users/teraw/Developer/projects/license_plate/template/Suphanburi.png'}\n",
            "{'plate_id': 'งข 6784', 'province': 'อุบลราชธานี', 'background': '/mnt/c/Users/teraw/Developer/projects/license_plate/template/Buriram.png'}\n",
            "{'plate_id': 'ปน 2340', 'province': 'กาฬสินธุ์', 'background': '/mnt/c/Users/teraw/Developer/projects/license_plate/template/normal.png'}\n",
            "{'plate_id': 'รข 1233', 'province': 'สุราษฎร์ธานี', 'background': '/mnt/c/Users/teraw/Developer/projects/license_plate/template/Nakorn Sawan.png'}\n",
            "{'plate_id': 'จท 5674', 'province': 'พัทลุง', 'background': '/mnt/c/Users/teraw/Developer/projects/license_plate/template/Nakorn Prathom.png'}\n",
            "{'plate_id': 'ดข 5671', 'province': 'สตูล', 'background': '/mnt/c/Users/teraw/Developer/projects/license_plate/template/Petchaburi.png'}\n",
            "{'plate_id': 'ปท 9017', 'province': 'ลำปาง', 'background': '/mnt/c/Users/teraw/Developer/projects/license_plate/template/Chiang Rai.png'}\n",
            "{'plate_id': 'นง 7890', 'province': 'พิษณุโลก', 'background': '/mnt/c/Users/teraw/Developer/projects/license_plate/template/normal.png'}\n",
            "{'plate_id': 'นช 0121', 'province': 'สมุทรสงคราม', 'background': '/mnt/c/Users/teraw/Developer/projects/license_plate/template/temporary.png'}\n",
            "{'plate_id': 'นย 6783', 'province': 'กาฬสินธุ์', 'background': '/mnt/c/Users/teraw/Developer/projects/license_plate/template/Ubon Rachathani.png'}\n",
            "{'plate_id': 'ฟท 8900', 'province': 'ปทุมธานี', 'background': '/mnt/c/Users/teraw/Developer/projects/license_plate/template/Udon Thani.png'}\n",
            "{'plate_id': 'ศท 0124', 'province': 'แพร่', 'background': '/mnt/c/Users/teraw/Developer/projects/license_plate/template/Suphanburi.png'}\n",
            "{'plate_id': 'นท 6786', 'province': 'ปราจีนบุรี', 'background': '/mnt/c/Users/teraw/Developer/projects/license_plate/template/Nonthaburi.png'}\n",
            "{'plate_id': 'จท 8908', 'province': 'อำนาจเจริญ', 'background': '/mnt/c/Users/teraw/Developer/projects/license_plate/template/normal.png'}\n",
            "{'plate_id': 'นง 5678', 'province': 'สิงห์บุรี', 'background': '/mnt/c/Users/teraw/Developer/projects/license_plate/template/bangkok.png'}\n",
            "{'plate_id': 'ขช 4564', 'province': 'สุโขทัย', 'background': '/mnt/c/Users/teraw/Developer/projects/license_plate/template/Nakorn Prathom.png'}\n",
            "{'plate_id': 'กท 1234', 'province': 'นครนายก', 'background': '/mnt/c/Users/teraw/Developer/projects/license_plate/template/Buriram.png'}\n",
            "{'plate_id': 'ดย 5675', 'province': 'อำนาจเจริญ', 'background': '/mnt/c/Users/teraw/Developer/projects/license_plate/template/Chiang Rai.png'}\n",
            "{'plate_id': 'นท 4568', 'province': 'ชุมพร', 'background': '/mnt/c/Users/teraw/Developer/projects/license_plate/template/bangkok.png'}\n",
            "{'plate_id': 'ลข 8905', 'province': 'เพชรบูรณ์', 'background': '/mnt/c/Users/teraw/Developer/projects/license_plate/template/Nonthaburi.png'}\n",
            "{'plate_id': 'นง 2348', 'province': 'สระบุรี', 'background': '/mnt/c/Users/teraw/Developer/projects/license_plate/template/Pathumthani.png'}\n",
            "{'plate_id': 'กข 4567', 'province': 'อุบลราชธานี', 'background': '/mnt/c/Users/teraw/Developer/projects/license_plate/template/Nakorn Prathom.png'}\n",
            "{'plate_id': 'ฟท 8906', 'province': 'พะเยา', 'background': '/mnt/c/Users/teraw/Developer/projects/license_plate/template/normal.png'}\n",
            "{'plate_id': 'รน 3454', 'province': 'จันทบุรี', 'background': '/mnt/c/Users/teraw/Developer/projects/license_plate/template/normal.png'}\n",
            "{'plate_id': 'รก 3457', 'province': 'ตราด', 'background': '/mnt/c/Users/teraw/Developer/projects/license_plate/template/Nonthaburi.png'}\n",
            "{'plate_id': 'จย 0125', 'province': 'พัทลุง', 'background': '/mnt/c/Users/teraw/Developer/projects/license_plate/template/Suphanburi.png'}\n",
            "{'plate_id': 'พข 0126', 'province': 'ฉะเชิงเทรา', 'background': '/mnt/c/Users/teraw/Developer/projects/license_plate/template/Roi Et.png'}\n",
            "{'plate_id': 'จน 8900', 'province': 'สุรินทร์', 'background': '/mnt/c/Users/teraw/Developer/projects/license_plate/template/bangkok.png'}\n",
            "{'plate_id': 'ยจ 7897', 'province': 'กระบี่', 'background': '/mnt/c/Users/teraw/Developer/projects/license_plate/template/Petchaburi.png'}\n",
            "{'plate_id': 'รก 3457', 'province': 'ชลบุรี', 'background': '/mnt/c/Users/teraw/Developer/projects/license_plate/template/Suphanburi.png'}\n",
            "{'plate_id': 'ลน 8907', 'province': 'ฉะเชิงเทรา', 'background': '/mnt/c/Users/teraw/Developer/projects/license_plate/template/Chiang Rai.png'}\n",
            "{'plate_id': 'ทท 2347', 'province': 'ยโสธร', 'background': '/mnt/c/Users/teraw/Developer/projects/license_plate/template/Nakorn Sawan.png'}\n",
            "{'plate_id': 'พง 7894', 'province': 'หนองบัวลำภู', 'background': '/mnt/c/Users/teraw/Developer/projects/license_plate/template/Roi Et.png'}\n",
            "{'plate_id': 'ดย 0128', 'province': 'ลำปาง', 'background': '/mnt/c/Users/teraw/Developer/projects/license_plate/template/Nakorn Sawan.png'}\n",
            "{'plate_id': 'ฟข 5678', 'province': 'จันทบุรี', 'background': '/mnt/c/Users/teraw/Developer/projects/license_plate/template/temporary.png'}\n",
            "{'plate_id': 'ขน 6783', 'province': 'สตูล', 'background': '/mnt/c/Users/teraw/Developer/projects/license_plate/template/Nakorn Prathom.png'}\n",
            "{'plate_id': 'จท 5674', 'province': 'กาฬสินธุ์', 'background': '/mnt/c/Users/teraw/Developer/projects/license_plate/template/Petchaburi.png'}\n",
            "{'plate_id': 'จข 4560', 'province': 'ยะลา', 'background': '/mnt/c/Users/teraw/Developer/projects/license_plate/template/Pathumthani.png'}\n",
            "{'plate_id': 'ชข 5675', 'province': 'พะเยา', 'background': '/mnt/c/Users/teraw/Developer/projects/license_plate/template/Chiang Rai.png'}\n",
            "{'plate_id': 'นน 9015', 'province': 'สมุทรปราการ', 'background': '/mnt/c/Users/teraw/Developer/projects/license_plate/template/temporary.png'}\n",
            "{'plate_id': 'กง 8901', 'province': 'อุดรธานี', 'background': '/mnt/c/Users/teraw/Developer/projects/license_plate/template/Chiang Rai.png'}\n",
            "{'plate_id': 'กจ 2345', 'province': 'อุดรธานี', 'background': '/mnt/c/Users/teraw/Developer/projects/license_plate/template/Chiang Rai.png'}\n",
            "{'plate_id': 'ขท 4565', 'province': 'สระบุรี', 'background': '/mnt/c/Users/teraw/Developer/projects/license_plate/template/Ubon Rachathani.png'}\n",
            "{'plate_id': 'วน 7897', 'province': 'เลย', 'background': '/mnt/c/Users/teraw/Developer/projects/license_plate/template/Chiang Rai.png'}\n",
            "{'plate_id': 'บก 4562', 'province': 'ตราด', 'background': '/mnt/c/Users/teraw/Developer/projects/license_plate/template/Ubon Rachathani.png'}\n",
            "{'plate_id': 'กน 8903', 'province': 'ลำปาง', 'background': '/mnt/c/Users/teraw/Developer/projects/license_plate/template/normal.png'}\n",
            "{'plate_id': 'ทง 7896', 'province': 'บุรีรัมย์', 'background': '/mnt/c/Users/teraw/Developer/projects/license_plate/template/bangkok.png'}\n"
          ]
        }
      ],
      "source": [
        "import random\n",
        "\n",
        "# Generate a random combination of plate_id and province\n",
        "def generate_random_plate_numbers(plate_ids, provinces, num_combinations):\n",
        "    plate_numbers = []\n",
        "    for _ in range(num_combinations):\n",
        "        plate_id = random.choice(plate_ids)\n",
        "        province = random.choice(provinces)\n",
        "        background = random.choice(backgrounds)\n",
        "        plate_numbers.append({\"plate_id\": plate_id, \"province\": province, \"background\": background})\n",
        "    return plate_numbers\n",
        "\n",
        "# Generate 5 random combinations\n",
        "plate_numbers = generate_random_plate_numbers(plate_ids, provinces, 300)\n",
        "\n",
        "# Print the result\n",
        "for plate in plate_numbers:\n",
        "    print(plate)"
      ]
    },
    {
      "cell_type": "code",
      "execution_count": 5,
      "metadata": {
        "id": "Fr5kb9Bag-En"
      },
      "outputs": [],
      "source": [
        "import cv2\n",
        "import numpy\n",
        "from PIL import Image, ImageFont, ImageDraw\n",
        "import os\n",
        "\n",
        "def generate_plate_image(plate_id, province, background, font_path, output_path):\n",
        "\n",
        "    image = cv2.imread(background)\n",
        "    pil_image = Image.fromarray(image[:, :, ::-1])\n",
        "\n",
        "    # Initialize the drawing context for the PIL image\n",
        "    draw = ImageDraw.Draw(pil_image)\n",
        "\n",
        "    # Draw plate ID text\n",
        "    font = ImageFont.truetype(font_path, size=100)\n",
        "    id_length = font.getlength(plate_id)\n",
        "    id_position = ((467 - id_length) / 2, -55)\n",
        "    draw.text(id_position, plate_id, font=font, fill=(0, 0, 0))\n",
        "\n",
        "    # Convert back to OpenCV format (BGR)\n",
        "    cv_image = cv2.cvtColor(numpy.array(pil_image), cv2.COLOR_RGB2BGR)\n",
        "\n",
        "    # Draw province text\n",
        "    font = ImageFont.truetype(font_path, size=60)\n",
        "    p_length = font.getlength(province)\n",
        "    p_position = ((467 - p_length) / 2, 90)\n",
        "    draw.text(p_position, province, font=font, fill=(0, 0, 0))\n",
        "\n",
        "    # Convert back to OpenCV format (BGR) after adding province text\n",
        "    cv_image = cv2.cvtColor(numpy.array(pil_image), cv2.COLOR_RGB2BGR)\n",
        "\n",
        "    # Save the generated image\n",
        "    if not os.path.exists(os.path.dirname(output_path)):\n",
        "        os.makedirs(os.path.dirname(output_path))\n",
        "\n",
        "    cv2.imwrite(output_path, cv_image)\n",
        "    print(f\"Generated plate image saved at {output_path}\")"
      ]
    },
    {
      "cell_type": "code",
      "execution_count": 6,
      "metadata": {
        "colab": {
          "base_uri": "https://localhost:8080/"
        },
        "id": "X8CjJKxLiz2Y",
        "outputId": "50f51b80-07a8-4eae-cf8e-6efe0d696350"
      },
      "outputs": [
        {
          "name": "stderr",
          "output_type": "stream",
          "text": [
            "libpng warning: iCCP: known incorrect sRGB profile\n",
            "libpng warning: iCCP: known incorrect sRGB profile\n",
            "libpng warning: iCCP: known incorrect sRGB profile\n",
            "libpng warning: iCCP: known incorrect sRGB profile\n",
            "libpng warning: iCCP: known incorrect sRGB profile\n",
            "libpng warning: iCCP: known incorrect sRGB profile\n"
          ]
        },
        {
          "name": "stdout",
          "output_type": "stream",
          "text": [
            "Generated plate image saved at /mnt/c/Users/teraw/Developer/projects/license_plate/generated/plate_1.png\n",
            "Generated plate image saved at /mnt/c/Users/teraw/Developer/projects/license_plate/generated/plate_2.png\n",
            "Generated plate image saved at /mnt/c/Users/teraw/Developer/projects/license_plate/generated/plate_3.png\n",
            "Generated plate image saved at /mnt/c/Users/teraw/Developer/projects/license_plate/generated/plate_4.png\n",
            "Generated plate image saved at /mnt/c/Users/teraw/Developer/projects/license_plate/generated/plate_5.png\n",
            "Generated plate image saved at /mnt/c/Users/teraw/Developer/projects/license_plate/generated/plate_6.png\n",
            "Generated plate image saved at /mnt/c/Users/teraw/Developer/projects/license_plate/generated/plate_7.png\n"
          ]
        },
        {
          "name": "stderr",
          "output_type": "stream",
          "text": [
            "libpng warning: iCCP: known incorrect sRGB profile\n",
            "libpng warning: iCCP: known incorrect sRGB profile\n",
            "libpng warning: iCCP: known incorrect sRGB profile\n",
            "libpng warning: iCCP: known incorrect sRGB profile\n",
            "libpng warning: iCCP: known incorrect sRGB profile\n",
            "libpng warning: iCCP: known incorrect sRGB profile\n",
            "libpng warning: iCCP: known incorrect sRGB profile\n"
          ]
        },
        {
          "name": "stdout",
          "output_type": "stream",
          "text": [
            "Generated plate image saved at /mnt/c/Users/teraw/Developer/projects/license_plate/generated/plate_8.png\n",
            "Generated plate image saved at /mnt/c/Users/teraw/Developer/projects/license_plate/generated/plate_9.png\n",
            "Generated plate image saved at /mnt/c/Users/teraw/Developer/projects/license_plate/generated/plate_10.png\n",
            "Generated plate image saved at /mnt/c/Users/teraw/Developer/projects/license_plate/generated/plate_11.png\n",
            "Generated plate image saved at /mnt/c/Users/teraw/Developer/projects/license_plate/generated/plate_12.png\n",
            "Generated plate image saved at /mnt/c/Users/teraw/Developer/projects/license_plate/generated/plate_13.png\n",
            "Generated plate image saved at /mnt/c/Users/teraw/Developer/projects/license_plate/generated/plate_14.png\n"
          ]
        },
        {
          "name": "stderr",
          "output_type": "stream",
          "text": [
            "libpng warning: iCCP: known incorrect sRGB profile\n",
            "libpng warning: iCCP: known incorrect sRGB profile\n",
            "libpng warning: iCCP: known incorrect sRGB profile\n",
            "libpng warning: iCCP: known incorrect sRGB profile\n",
            "libpng warning: iCCP: known incorrect sRGB profile\n"
          ]
        },
        {
          "name": "stdout",
          "output_type": "stream",
          "text": [
            "Generated plate image saved at /mnt/c/Users/teraw/Developer/projects/license_plate/generated/plate_15.png\n",
            "Generated plate image saved at /mnt/c/Users/teraw/Developer/projects/license_plate/generated/plate_16.png\n",
            "Generated plate image saved at /mnt/c/Users/teraw/Developer/projects/license_plate/generated/plate_17.png\n",
            "Generated plate image saved at /mnt/c/Users/teraw/Developer/projects/license_plate/generated/plate_18.png\n",
            "Generated plate image saved at /mnt/c/Users/teraw/Developer/projects/license_plate/generated/plate_19.png\n",
            "Generated plate image saved at /mnt/c/Users/teraw/Developer/projects/license_plate/generated/plate_20.png\n",
            "Generated plate image saved at /mnt/c/Users/teraw/Developer/projects/license_plate/generated/plate_21.png\n"
          ]
        },
        {
          "name": "stderr",
          "output_type": "stream",
          "text": [
            "libpng warning: iCCP: known incorrect sRGB profile\n",
            "libpng warning: iCCP: known incorrect sRGB profile\n",
            "libpng warning: iCCP: known incorrect sRGB profile\n",
            "libpng warning: iCCP: known incorrect sRGB profile\n",
            "libpng warning: iCCP: known incorrect sRGB profile\n"
          ]
        },
        {
          "name": "stdout",
          "output_type": "stream",
          "text": [
            "Generated plate image saved at /mnt/c/Users/teraw/Developer/projects/license_plate/generated/plate_22.png\n",
            "Generated plate image saved at /mnt/c/Users/teraw/Developer/projects/license_plate/generated/plate_23.png\n",
            "Generated plate image saved at /mnt/c/Users/teraw/Developer/projects/license_plate/generated/plate_24.png\n",
            "Generated plate image saved at /mnt/c/Users/teraw/Developer/projects/license_plate/generated/plate_25.png\n",
            "Generated plate image saved at /mnt/c/Users/teraw/Developer/projects/license_plate/generated/plate_26.png\n",
            "Generated plate image saved at /mnt/c/Users/teraw/Developer/projects/license_plate/generated/plate_27.png\n",
            "Generated plate image saved at /mnt/c/Users/teraw/Developer/projects/license_plate/generated/plate_28.png\n"
          ]
        },
        {
          "name": "stderr",
          "output_type": "stream",
          "text": [
            "libpng warning: iCCP: known incorrect sRGB profile\n",
            "libpng warning: iCCP: known incorrect sRGB profile\n",
            "libpng warning: iCCP: known incorrect sRGB profile\n",
            "libpng warning: iCCP: known incorrect sRGB profile\n",
            "libpng warning: iCCP: known incorrect sRGB profile\n",
            "libpng warning: iCCP: known incorrect sRGB profile\n"
          ]
        },
        {
          "name": "stdout",
          "output_type": "stream",
          "text": [
            "Generated plate image saved at /mnt/c/Users/teraw/Developer/projects/license_plate/generated/plate_29.png\n",
            "Generated plate image saved at /mnt/c/Users/teraw/Developer/projects/license_plate/generated/plate_30.png\n",
            "Generated plate image saved at /mnt/c/Users/teraw/Developer/projects/license_plate/generated/plate_31.png\n",
            "Generated plate image saved at /mnt/c/Users/teraw/Developer/projects/license_plate/generated/plate_32.png\n",
            "Generated plate image saved at /mnt/c/Users/teraw/Developer/projects/license_plate/generated/plate_33.png\n",
            "Generated plate image saved at /mnt/c/Users/teraw/Developer/projects/license_plate/generated/plate_34.png\n"
          ]
        },
        {
          "name": "stderr",
          "output_type": "stream",
          "text": [
            "libpng warning: iCCP: known incorrect sRGB profile\n",
            "libpng warning: iCCP: known incorrect sRGB profile\n",
            "libpng warning: iCCP: known incorrect sRGB profile\n",
            "libpng warning: iCCP: known incorrect sRGB profile\n",
            "libpng warning: iCCP: known incorrect sRGB profile\n",
            "libpng warning: iCCP: known incorrect sRGB profile\n"
          ]
        },
        {
          "name": "stdout",
          "output_type": "stream",
          "text": [
            "Generated plate image saved at /mnt/c/Users/teraw/Developer/projects/license_plate/generated/plate_35.png\n",
            "Generated plate image saved at /mnt/c/Users/teraw/Developer/projects/license_plate/generated/plate_36.png\n",
            "Generated plate image saved at /mnt/c/Users/teraw/Developer/projects/license_plate/generated/plate_37.png\n",
            "Generated plate image saved at /mnt/c/Users/teraw/Developer/projects/license_plate/generated/plate_38.png\n",
            "Generated plate image saved at /mnt/c/Users/teraw/Developer/projects/license_plate/generated/plate_39.png\n",
            "Generated plate image saved at /mnt/c/Users/teraw/Developer/projects/license_plate/generated/plate_40.png\n"
          ]
        },
        {
          "name": "stderr",
          "output_type": "stream",
          "text": [
            "libpng warning: iCCP: known incorrect sRGB profile\n",
            "libpng warning: iCCP: known incorrect sRGB profile\n",
            "libpng warning: iCCP: known incorrect sRGB profile\n",
            "libpng warning: iCCP: known incorrect sRGB profile\n",
            "libpng warning: iCCP: known incorrect sRGB profile\n",
            "libpng warning: iCCP: known incorrect sRGB profile\n"
          ]
        },
        {
          "name": "stdout",
          "output_type": "stream",
          "text": [
            "Generated plate image saved at /mnt/c/Users/teraw/Developer/projects/license_plate/generated/plate_41.png\n",
            "Generated plate image saved at /mnt/c/Users/teraw/Developer/projects/license_plate/generated/plate_42.png\n",
            "Generated plate image saved at /mnt/c/Users/teraw/Developer/projects/license_plate/generated/plate_43.png\n",
            "Generated plate image saved at /mnt/c/Users/teraw/Developer/projects/license_plate/generated/plate_44.png\n",
            "Generated plate image saved at /mnt/c/Users/teraw/Developer/projects/license_plate/generated/plate_45.png\n",
            "Generated plate image saved at /mnt/c/Users/teraw/Developer/projects/license_plate/generated/plate_46.png\n"
          ]
        },
        {
          "name": "stderr",
          "output_type": "stream",
          "text": [
            "libpng warning: iCCP: known incorrect sRGB profile\n",
            "libpng warning: iCCP: known incorrect sRGB profile\n",
            "libpng warning: iCCP: known incorrect sRGB profile\n",
            "libpng warning: iCCP: known incorrect sRGB profile\n",
            "libpng warning: iCCP: known incorrect sRGB profile\n",
            "libpng warning: iCCP: known incorrect sRGB profile\n"
          ]
        },
        {
          "name": "stdout",
          "output_type": "stream",
          "text": [
            "Generated plate image saved at /mnt/c/Users/teraw/Developer/projects/license_plate/generated/plate_47.png\n",
            "Generated plate image saved at /mnt/c/Users/teraw/Developer/projects/license_plate/generated/plate_48.png\n",
            "Generated plate image saved at /mnt/c/Users/teraw/Developer/projects/license_plate/generated/plate_49.png\n",
            "Generated plate image saved at /mnt/c/Users/teraw/Developer/projects/license_plate/generated/plate_50.png\n",
            "Generated plate image saved at /mnt/c/Users/teraw/Developer/projects/license_plate/generated/plate_51.png\n",
            "Generated plate image saved at /mnt/c/Users/teraw/Developer/projects/license_plate/generated/plate_52.png\n"
          ]
        },
        {
          "name": "stderr",
          "output_type": "stream",
          "text": [
            "libpng warning: iCCP: known incorrect sRGB profile\n",
            "libpng warning: iCCP: known incorrect sRGB profile\n",
            "libpng warning: iCCP: known incorrect sRGB profile\n",
            "libpng warning: iCCP: known incorrect sRGB profile\n",
            "libpng warning: iCCP: known incorrect sRGB profile\n",
            "libpng warning: iCCP: known incorrect sRGB profile\n"
          ]
        },
        {
          "name": "stdout",
          "output_type": "stream",
          "text": [
            "Generated plate image saved at /mnt/c/Users/teraw/Developer/projects/license_plate/generated/plate_53.png\n",
            "Generated plate image saved at /mnt/c/Users/teraw/Developer/projects/license_plate/generated/plate_54.png\n",
            "Generated plate image saved at /mnt/c/Users/teraw/Developer/projects/license_plate/generated/plate_55.png\n",
            "Generated plate image saved at /mnt/c/Users/teraw/Developer/projects/license_plate/generated/plate_56.png\n",
            "Generated plate image saved at /mnt/c/Users/teraw/Developer/projects/license_plate/generated/plate_57.png\n",
            "Generated plate image saved at /mnt/c/Users/teraw/Developer/projects/license_plate/generated/plate_58.png\n"
          ]
        },
        {
          "name": "stderr",
          "output_type": "stream",
          "text": [
            "libpng warning: iCCP: known incorrect sRGB profile\n",
            "libpng warning: iCCP: known incorrect sRGB profile\n",
            "libpng warning: iCCP: known incorrect sRGB profile\n",
            "libpng warning: iCCP: known incorrect sRGB profile\n",
            "libpng warning: iCCP: known incorrect sRGB profile\n"
          ]
        },
        {
          "name": "stdout",
          "output_type": "stream",
          "text": [
            "Generated plate image saved at /mnt/c/Users/teraw/Developer/projects/license_plate/generated/plate_59.png\n",
            "Generated plate image saved at /mnt/c/Users/teraw/Developer/projects/license_plate/generated/plate_60.png\n",
            "Generated plate image saved at /mnt/c/Users/teraw/Developer/projects/license_plate/generated/plate_61.png\n",
            "Generated plate image saved at /mnt/c/Users/teraw/Developer/projects/license_plate/generated/plate_62.png\n",
            "Generated plate image saved at /mnt/c/Users/teraw/Developer/projects/license_plate/generated/plate_63.png\n",
            "Generated plate image saved at /mnt/c/Users/teraw/Developer/projects/license_plate/generated/plate_64.png\n"
          ]
        },
        {
          "name": "stderr",
          "output_type": "stream",
          "text": [
            "libpng warning: iCCP: known incorrect sRGB profile\n",
            "libpng warning: iCCP: known incorrect sRGB profile\n",
            "libpng warning: iCCP: known incorrect sRGB profile\n",
            "libpng warning: iCCP: known incorrect sRGB profile\n"
          ]
        },
        {
          "name": "stdout",
          "output_type": "stream",
          "text": [
            "Generated plate image saved at /mnt/c/Users/teraw/Developer/projects/license_plate/generated/plate_65.png\n",
            "Generated plate image saved at /mnt/c/Users/teraw/Developer/projects/license_plate/generated/plate_66.png\n",
            "Generated plate image saved at /mnt/c/Users/teraw/Developer/projects/license_plate/generated/plate_67.png\n",
            "Generated plate image saved at /mnt/c/Users/teraw/Developer/projects/license_plate/generated/plate_68.png\n",
            "Generated plate image saved at /mnt/c/Users/teraw/Developer/projects/license_plate/generated/plate_69.png\n"
          ]
        },
        {
          "name": "stderr",
          "output_type": "stream",
          "text": [
            "libpng warning: iCCP: known incorrect sRGB profile\n",
            "libpng warning: iCCP: known incorrect sRGB profile\n",
            "libpng warning: iCCP: known incorrect sRGB profile\n",
            "libpng warning: iCCP: known incorrect sRGB profile\n",
            "libpng warning: iCCP: known incorrect sRGB profile\n",
            "libpng warning: iCCP: known incorrect sRGB profile\n"
          ]
        },
        {
          "name": "stdout",
          "output_type": "stream",
          "text": [
            "Generated plate image saved at /mnt/c/Users/teraw/Developer/projects/license_plate/generated/plate_70.png\n",
            "Generated plate image saved at /mnt/c/Users/teraw/Developer/projects/license_plate/generated/plate_71.png\n",
            "Generated plate image saved at /mnt/c/Users/teraw/Developer/projects/license_plate/generated/plate_72.png\n",
            "Generated plate image saved at /mnt/c/Users/teraw/Developer/projects/license_plate/generated/plate_73.png\n",
            "Generated plate image saved at /mnt/c/Users/teraw/Developer/projects/license_plate/generated/plate_74.png\n",
            "Generated plate image saved at /mnt/c/Users/teraw/Developer/projects/license_plate/generated/plate_75.png\n",
            "Generated plate image saved at /mnt/c/Users/teraw/Developer/projects/license_plate/generated/plate_76.png\n",
            "Generated plate image saved at /mnt/c/Users/teraw/Developer/projects/license_plate/generated/plate_77.png\n",
            "Generated plate image saved at /mnt/c/Users/teraw/Developer/projects/license_plate/generated/plate_78.png\n",
            "Generated plate image saved at /mnt/c/Users/teraw/Developer/projects/license_plate/generated/plate_79.png\n",
            "Generated plate image saved at /mnt/c/Users/teraw/Developer/projects/license_plate/generated/plate_80.png\n",
            "Generated plate image saved at /mnt/c/Users/teraw/Developer/projects/license_plate/generated/plate_81.png\n"
          ]
        },
        {
          "name": "stderr",
          "output_type": "stream",
          "text": [
            "libpng warning: iCCP: known incorrect sRGB profile\n",
            "libpng warning: iCCP: known incorrect sRGB profile\n",
            "libpng warning: iCCP: known incorrect sRGB profile\n",
            "libpng warning: iCCP: known incorrect sRGB profile\n",
            "libpng warning: iCCP: known incorrect sRGB profile\n"
          ]
        },
        {
          "name": "stdout",
          "output_type": "stream",
          "text": [
            "Generated plate image saved at /mnt/c/Users/teraw/Developer/projects/license_plate/generated/plate_82.png\n",
            "Generated plate image saved at /mnt/c/Users/teraw/Developer/projects/license_plate/generated/plate_83.png\n",
            "Generated plate image saved at /mnt/c/Users/teraw/Developer/projects/license_plate/generated/plate_84.png\n",
            "Generated plate image saved at /mnt/c/Users/teraw/Developer/projects/license_plate/generated/plate_85.png\n",
            "Generated plate image saved at /mnt/c/Users/teraw/Developer/projects/license_plate/generated/plate_86.png\n",
            "Generated plate image saved at /mnt/c/Users/teraw/Developer/projects/license_plate/generated/plate_87.png\n",
            "Generated plate image saved at /mnt/c/Users/teraw/Developer/projects/license_plate/generated/plate_88.png\n"
          ]
        },
        {
          "name": "stderr",
          "output_type": "stream",
          "text": [
            "libpng warning: iCCP: known incorrect sRGB profile\n",
            "libpng warning: iCCP: known incorrect sRGB profile\n",
            "libpng warning: iCCP: known incorrect sRGB profile\n",
            "libpng warning: iCCP: known incorrect sRGB profile\n",
            "libpng warning: iCCP: known incorrect sRGB profile\n"
          ]
        },
        {
          "name": "stdout",
          "output_type": "stream",
          "text": [
            "Generated plate image saved at /mnt/c/Users/teraw/Developer/projects/license_plate/generated/plate_89.png\n",
            "Generated plate image saved at /mnt/c/Users/teraw/Developer/projects/license_plate/generated/plate_90.png\n",
            "Generated plate image saved at /mnt/c/Users/teraw/Developer/projects/license_plate/generated/plate_91.png\n",
            "Generated plate image saved at /mnt/c/Users/teraw/Developer/projects/license_plate/generated/plate_92.png\n",
            "Generated plate image saved at /mnt/c/Users/teraw/Developer/projects/license_plate/generated/plate_93.png\n",
            "Generated plate image saved at /mnt/c/Users/teraw/Developer/projects/license_plate/generated/plate_94.png\n"
          ]
        },
        {
          "name": "stderr",
          "output_type": "stream",
          "text": [
            "libpng warning: iCCP: known incorrect sRGB profile\n",
            "libpng warning: iCCP: known incorrect sRGB profile\n",
            "libpng warning: iCCP: known incorrect sRGB profile\n",
            "libpng warning: iCCP: known incorrect sRGB profile\n",
            "libpng warning: iCCP: known incorrect sRGB profile\n"
          ]
        },
        {
          "name": "stdout",
          "output_type": "stream",
          "text": [
            "Generated plate image saved at /mnt/c/Users/teraw/Developer/projects/license_plate/generated/plate_95.png\n",
            "Generated plate image saved at /mnt/c/Users/teraw/Developer/projects/license_plate/generated/plate_96.png\n",
            "Generated plate image saved at /mnt/c/Users/teraw/Developer/projects/license_plate/generated/plate_97.png\n",
            "Generated plate image saved at /mnt/c/Users/teraw/Developer/projects/license_plate/generated/plate_98.png\n",
            "Generated plate image saved at /mnt/c/Users/teraw/Developer/projects/license_plate/generated/plate_99.png\n"
          ]
        },
        {
          "name": "stderr",
          "output_type": "stream",
          "text": [
            "libpng warning: iCCP: known incorrect sRGB profile\n",
            "libpng warning: iCCP: known incorrect sRGB profile\n",
            "libpng warning: iCCP: known incorrect sRGB profile\n",
            "libpng warning: iCCP: known incorrect sRGB profile\n",
            "libpng warning: iCCP: known incorrect sRGB profile\n"
          ]
        },
        {
          "name": "stdout",
          "output_type": "stream",
          "text": [
            "Generated plate image saved at /mnt/c/Users/teraw/Developer/projects/license_plate/generated/plate_100.png\n",
            "Generated plate image saved at /mnt/c/Users/teraw/Developer/projects/license_plate/generated/plate_101.png\n",
            "Generated plate image saved at /mnt/c/Users/teraw/Developer/projects/license_plate/generated/plate_102.png\n",
            "Generated plate image saved at /mnt/c/Users/teraw/Developer/projects/license_plate/generated/plate_103.png\n",
            "Generated plate image saved at /mnt/c/Users/teraw/Developer/projects/license_plate/generated/plate_104.png\n",
            "Generated plate image saved at /mnt/c/Users/teraw/Developer/projects/license_plate/generated/plate_105.png\n",
            "Generated plate image saved at /mnt/c/Users/teraw/Developer/projects/license_plate/generated/plate_106.png\n"
          ]
        },
        {
          "name": "stderr",
          "output_type": "stream",
          "text": [
            "libpng warning: iCCP: known incorrect sRGB profile\n",
            "libpng warning: iCCP: known incorrect sRGB profile\n",
            "libpng warning: iCCP: known incorrect sRGB profile\n",
            "libpng warning: iCCP: known incorrect sRGB profile\n",
            "libpng warning: iCCP: known incorrect sRGB profile\n"
          ]
        },
        {
          "name": "stdout",
          "output_type": "stream",
          "text": [
            "Generated plate image saved at /mnt/c/Users/teraw/Developer/projects/license_plate/generated/plate_107.png\n",
            "Generated plate image saved at /mnt/c/Users/teraw/Developer/projects/license_plate/generated/plate_108.png\n",
            "Generated plate image saved at /mnt/c/Users/teraw/Developer/projects/license_plate/generated/plate_109.png\n",
            "Generated plate image saved at /mnt/c/Users/teraw/Developer/projects/license_plate/generated/plate_110.png\n",
            "Generated plate image saved at /mnt/c/Users/teraw/Developer/projects/license_plate/generated/plate_111.png\n",
            "Generated plate image saved at /mnt/c/Users/teraw/Developer/projects/license_plate/generated/plate_112.png\n",
            "Generated plate image saved at /mnt/c/Users/teraw/Developer/projects/license_plate/generated/plate_113.png\n"
          ]
        },
        {
          "name": "stderr",
          "output_type": "stream",
          "text": [
            "libpng warning: iCCP: known incorrect sRGB profile\n",
            "libpng warning: iCCP: known incorrect sRGB profile\n",
            "libpng warning: iCCP: known incorrect sRGB profile\n",
            "libpng warning: iCCP: known incorrect sRGB profile\n",
            "libpng warning: iCCP: known incorrect sRGB profile\n",
            "libpng warning: iCCP: known incorrect sRGB profile\n"
          ]
        },
        {
          "name": "stdout",
          "output_type": "stream",
          "text": [
            "Generated plate image saved at /mnt/c/Users/teraw/Developer/projects/license_plate/generated/plate_114.png\n",
            "Generated plate image saved at /mnt/c/Users/teraw/Developer/projects/license_plate/generated/plate_115.png\n",
            "Generated plate image saved at /mnt/c/Users/teraw/Developer/projects/license_plate/generated/plate_116.png\n",
            "Generated plate image saved at /mnt/c/Users/teraw/Developer/projects/license_plate/generated/plate_117.png\n",
            "Generated plate image saved at /mnt/c/Users/teraw/Developer/projects/license_plate/generated/plate_118.png\n",
            "Generated plate image saved at /mnt/c/Users/teraw/Developer/projects/license_plate/generated/plate_119.png\n"
          ]
        },
        {
          "name": "stderr",
          "output_type": "stream",
          "text": [
            "libpng warning: iCCP: known incorrect sRGB profile\n",
            "libpng warning: iCCP: known incorrect sRGB profile\n",
            "libpng warning: iCCP: known incorrect sRGB profile\n",
            "libpng warning: iCCP: known incorrect sRGB profile\n",
            "libpng warning: iCCP: known incorrect sRGB profile\n",
            "libpng warning: iCCP: known incorrect sRGB profile\n"
          ]
        },
        {
          "name": "stdout",
          "output_type": "stream",
          "text": [
            "Generated plate image saved at /mnt/c/Users/teraw/Developer/projects/license_plate/generated/plate_120.png\n",
            "Generated plate image saved at /mnt/c/Users/teraw/Developer/projects/license_plate/generated/plate_121.png\n",
            "Generated plate image saved at /mnt/c/Users/teraw/Developer/projects/license_plate/generated/plate_122.png\n",
            "Generated plate image saved at /mnt/c/Users/teraw/Developer/projects/license_plate/generated/plate_123.png\n",
            "Generated plate image saved at /mnt/c/Users/teraw/Developer/projects/license_plate/generated/plate_124.png\n",
            "Generated plate image saved at /mnt/c/Users/teraw/Developer/projects/license_plate/generated/plate_125.png\n",
            "Generated plate image saved at /mnt/c/Users/teraw/Developer/projects/license_plate/generated/plate_126.png\n"
          ]
        },
        {
          "name": "stderr",
          "output_type": "stream",
          "text": [
            "libpng warning: iCCP: known incorrect sRGB profile\n",
            "libpng warning: iCCP: known incorrect sRGB profile\n",
            "libpng warning: iCCP: known incorrect sRGB profile\n",
            "libpng warning: iCCP: known incorrect sRGB profile\n",
            "libpng warning: iCCP: known incorrect sRGB profile\n",
            "libpng warning: iCCP: known incorrect sRGB profile\n",
            "libpng warning: iCCP: known incorrect sRGB profile\n"
          ]
        },
        {
          "name": "stdout",
          "output_type": "stream",
          "text": [
            "Generated plate image saved at /mnt/c/Users/teraw/Developer/projects/license_plate/generated/plate_127.png\n",
            "Generated plate image saved at /mnt/c/Users/teraw/Developer/projects/license_plate/generated/plate_128.png\n",
            "Generated plate image saved at /mnt/c/Users/teraw/Developer/projects/license_plate/generated/plate_129.png\n",
            "Generated plate image saved at /mnt/c/Users/teraw/Developer/projects/license_plate/generated/plate_130.png\n",
            "Generated plate image saved at /mnt/c/Users/teraw/Developer/projects/license_plate/generated/plate_131.png\n",
            "Generated plate image saved at /mnt/c/Users/teraw/Developer/projects/license_plate/generated/plate_132.png\n"
          ]
        },
        {
          "name": "stderr",
          "output_type": "stream",
          "text": [
            "libpng warning: iCCP: known incorrect sRGB profile\n",
            "libpng warning: iCCP: known incorrect sRGB profile\n",
            "libpng warning: iCCP: known incorrect sRGB profile\n",
            "libpng warning: iCCP: known incorrect sRGB profile\n"
          ]
        },
        {
          "name": "stdout",
          "output_type": "stream",
          "text": [
            "Generated plate image saved at /mnt/c/Users/teraw/Developer/projects/license_plate/generated/plate_133.png\n",
            "Generated plate image saved at /mnt/c/Users/teraw/Developer/projects/license_plate/generated/plate_134.png\n",
            "Generated plate image saved at /mnt/c/Users/teraw/Developer/projects/license_plate/generated/plate_135.png\n",
            "Generated plate image saved at /mnt/c/Users/teraw/Developer/projects/license_plate/generated/plate_136.png\n",
            "Generated plate image saved at /mnt/c/Users/teraw/Developer/projects/license_plate/generated/plate_137.png\n",
            "Generated plate image saved at /mnt/c/Users/teraw/Developer/projects/license_plate/generated/plate_138.png\n",
            "Generated plate image saved at /mnt/c/Users/teraw/Developer/projects/license_plate/generated/plate_139.png\n"
          ]
        },
        {
          "name": "stderr",
          "output_type": "stream",
          "text": [
            "libpng warning: iCCP: known incorrect sRGB profile\n",
            "libpng warning: iCCP: known incorrect sRGB profile\n",
            "libpng warning: iCCP: known incorrect sRGB profile\n",
            "libpng warning: iCCP: known incorrect sRGB profile\n",
            "libpng warning: iCCP: known incorrect sRGB profile\n"
          ]
        },
        {
          "name": "stdout",
          "output_type": "stream",
          "text": [
            "Generated plate image saved at /mnt/c/Users/teraw/Developer/projects/license_plate/generated/plate_140.png\n",
            "Generated plate image saved at /mnt/c/Users/teraw/Developer/projects/license_plate/generated/plate_141.png\n",
            "Generated plate image saved at /mnt/c/Users/teraw/Developer/projects/license_plate/generated/plate_142.png\n",
            "Generated plate image saved at /mnt/c/Users/teraw/Developer/projects/license_plate/generated/plate_143.png\n",
            "Generated plate image saved at /mnt/c/Users/teraw/Developer/projects/license_plate/generated/plate_144.png\n",
            "Generated plate image saved at /mnt/c/Users/teraw/Developer/projects/license_plate/generated/plate_145.png\n"
          ]
        },
        {
          "name": "stderr",
          "output_type": "stream",
          "text": [
            "libpng warning: iCCP: known incorrect sRGB profile\n",
            "libpng warning: iCCP: known incorrect sRGB profile\n",
            "libpng warning: iCCP: known incorrect sRGB profile\n",
            "libpng warning: iCCP: known incorrect sRGB profile\n",
            "libpng warning: iCCP: known incorrect sRGB profile\n",
            "libpng warning: iCCP: known incorrect sRGB profile\n"
          ]
        },
        {
          "name": "stdout",
          "output_type": "stream",
          "text": [
            "Generated plate image saved at /mnt/c/Users/teraw/Developer/projects/license_plate/generated/plate_146.png\n",
            "Generated plate image saved at /mnt/c/Users/teraw/Developer/projects/license_plate/generated/plate_147.png\n",
            "Generated plate image saved at /mnt/c/Users/teraw/Developer/projects/license_plate/generated/plate_148.png\n",
            "Generated plate image saved at /mnt/c/Users/teraw/Developer/projects/license_plate/generated/plate_149.png\n",
            "Generated plate image saved at /mnt/c/Users/teraw/Developer/projects/license_plate/generated/plate_150.png\n",
            "Generated plate image saved at /mnt/c/Users/teraw/Developer/projects/license_plate/generated/plate_151.png\n"
          ]
        },
        {
          "name": "stderr",
          "output_type": "stream",
          "text": [
            "libpng warning: iCCP: known incorrect sRGB profile\n",
            "libpng warning: iCCP: known incorrect sRGB profile\n",
            "libpng warning: iCCP: known incorrect sRGB profile\n",
            "libpng warning: iCCP: known incorrect sRGB profile\n"
          ]
        },
        {
          "name": "stdout",
          "output_type": "stream",
          "text": [
            "Generated plate image saved at /mnt/c/Users/teraw/Developer/projects/license_plate/generated/plate_152.png\n",
            "Generated plate image saved at /mnt/c/Users/teraw/Developer/projects/license_plate/generated/plate_153.png\n",
            "Generated plate image saved at /mnt/c/Users/teraw/Developer/projects/license_plate/generated/plate_154.png\n",
            "Generated plate image saved at /mnt/c/Users/teraw/Developer/projects/license_plate/generated/plate_155.png\n",
            "Generated plate image saved at /mnt/c/Users/teraw/Developer/projects/license_plate/generated/plate_156.png\n",
            "Generated plate image saved at /mnt/c/Users/teraw/Developer/projects/license_plate/generated/plate_157.png\n",
            "Generated plate image saved at /mnt/c/Users/teraw/Developer/projects/license_plate/generated/plate_158.png\n"
          ]
        },
        {
          "name": "stderr",
          "output_type": "stream",
          "text": [
            "libpng warning: iCCP: known incorrect sRGB profile\n",
            "libpng warning: iCCP: known incorrect sRGB profile\n",
            "libpng warning: iCCP: known incorrect sRGB profile\n",
            "libpng warning: iCCP: known incorrect sRGB profile\n",
            "libpng warning: iCCP: known incorrect sRGB profile\n",
            "libpng warning: iCCP: known incorrect sRGB profile\n"
          ]
        },
        {
          "name": "stdout",
          "output_type": "stream",
          "text": [
            "Generated plate image saved at /mnt/c/Users/teraw/Developer/projects/license_plate/generated/plate_159.png\n",
            "Generated plate image saved at /mnt/c/Users/teraw/Developer/projects/license_plate/generated/plate_160.png\n",
            "Generated plate image saved at /mnt/c/Users/teraw/Developer/projects/license_plate/generated/plate_161.png\n",
            "Generated plate image saved at /mnt/c/Users/teraw/Developer/projects/license_plate/generated/plate_162.png\n",
            "Generated plate image saved at /mnt/c/Users/teraw/Developer/projects/license_plate/generated/plate_163.png\n",
            "Generated plate image saved at /mnt/c/Users/teraw/Developer/projects/license_plate/generated/plate_164.png\n"
          ]
        },
        {
          "name": "stderr",
          "output_type": "stream",
          "text": [
            "libpng warning: iCCP: known incorrect sRGB profile\n",
            "libpng warning: iCCP: known incorrect sRGB profile\n",
            "libpng warning: iCCP: known incorrect sRGB profile\n",
            "libpng warning: iCCP: known incorrect sRGB profile\n",
            "libpng warning: iCCP: known incorrect sRGB profile\n",
            "libpng warning: iCCP: known incorrect sRGB profile\n"
          ]
        },
        {
          "name": "stdout",
          "output_type": "stream",
          "text": [
            "Generated plate image saved at /mnt/c/Users/teraw/Developer/projects/license_plate/generated/plate_165.png\n",
            "Generated plate image saved at /mnt/c/Users/teraw/Developer/projects/license_plate/generated/plate_166.png\n",
            "Generated plate image saved at /mnt/c/Users/teraw/Developer/projects/license_plate/generated/plate_167.png\n",
            "Generated plate image saved at /mnt/c/Users/teraw/Developer/projects/license_plate/generated/plate_168.png\n",
            "Generated plate image saved at /mnt/c/Users/teraw/Developer/projects/license_plate/generated/plate_169.png\n",
            "Generated plate image saved at /mnt/c/Users/teraw/Developer/projects/license_plate/generated/plate_170.png\n"
          ]
        },
        {
          "name": "stderr",
          "output_type": "stream",
          "text": [
            "libpng warning: iCCP: known incorrect sRGB profile\n",
            "libpng warning: iCCP: known incorrect sRGB profile\n",
            "libpng warning: iCCP: known incorrect sRGB profile\n",
            "libpng warning: iCCP: known incorrect sRGB profile\n",
            "libpng warning: iCCP: known incorrect sRGB profile\n"
          ]
        },
        {
          "name": "stdout",
          "output_type": "stream",
          "text": [
            "Generated plate image saved at /mnt/c/Users/teraw/Developer/projects/license_plate/generated/plate_171.png\n",
            "Generated plate image saved at /mnt/c/Users/teraw/Developer/projects/license_plate/generated/plate_172.png\n",
            "Generated plate image saved at /mnt/c/Users/teraw/Developer/projects/license_plate/generated/plate_173.png\n",
            "Generated plate image saved at /mnt/c/Users/teraw/Developer/projects/license_plate/generated/plate_174.png\n",
            "Generated plate image saved at /mnt/c/Users/teraw/Developer/projects/license_plate/generated/plate_175.png\n",
            "Generated plate image saved at /mnt/c/Users/teraw/Developer/projects/license_plate/generated/plate_176.png\n"
          ]
        },
        {
          "name": "stderr",
          "output_type": "stream",
          "text": [
            "libpng warning: iCCP: known incorrect sRGB profile\n",
            "libpng warning: iCCP: known incorrect sRGB profile\n",
            "libpng warning: iCCP: known incorrect sRGB profile\n",
            "libpng warning: iCCP: known incorrect sRGB profile\n",
            "libpng warning: iCCP: known incorrect sRGB profile\n",
            "libpng warning: iCCP: known incorrect sRGB profile\n"
          ]
        },
        {
          "name": "stdout",
          "output_type": "stream",
          "text": [
            "Generated plate image saved at /mnt/c/Users/teraw/Developer/projects/license_plate/generated/plate_177.png\n",
            "Generated plate image saved at /mnt/c/Users/teraw/Developer/projects/license_plate/generated/plate_178.png\n",
            "Generated plate image saved at /mnt/c/Users/teraw/Developer/projects/license_plate/generated/plate_179.png\n",
            "Generated plate image saved at /mnt/c/Users/teraw/Developer/projects/license_plate/generated/plate_180.png\n",
            "Generated plate image saved at /mnt/c/Users/teraw/Developer/projects/license_plate/generated/plate_181.png\n",
            "Generated plate image saved at /mnt/c/Users/teraw/Developer/projects/license_plate/generated/plate_182.png\n",
            "Generated plate image saved at /mnt/c/Users/teraw/Developer/projects/license_plate/generated/plate_183.png\n"
          ]
        },
        {
          "name": "stderr",
          "output_type": "stream",
          "text": [
            "libpng warning: iCCP: known incorrect sRGB profile\n",
            "libpng warning: iCCP: known incorrect sRGB profile\n",
            "libpng warning: iCCP: known incorrect sRGB profile\n",
            "libpng warning: iCCP: known incorrect sRGB profile\n",
            "libpng warning: iCCP: known incorrect sRGB profile\n",
            "libpng warning: iCCP: known incorrect sRGB profile\n",
            "libpng warning: iCCP: known incorrect sRGB profile\n"
          ]
        },
        {
          "name": "stdout",
          "output_type": "stream",
          "text": [
            "Generated plate image saved at /mnt/c/Users/teraw/Developer/projects/license_plate/generated/plate_184.png\n",
            "Generated plate image saved at /mnt/c/Users/teraw/Developer/projects/license_plate/generated/plate_185.png\n",
            "Generated plate image saved at /mnt/c/Users/teraw/Developer/projects/license_plate/generated/plate_186.png\n",
            "Generated plate image saved at /mnt/c/Users/teraw/Developer/projects/license_plate/generated/plate_187.png\n",
            "Generated plate image saved at /mnt/c/Users/teraw/Developer/projects/license_plate/generated/plate_188.png\n",
            "Generated plate image saved at /mnt/c/Users/teraw/Developer/projects/license_plate/generated/plate_189.png\n"
          ]
        },
        {
          "name": "stderr",
          "output_type": "stream",
          "text": [
            "libpng warning: iCCP: known incorrect sRGB profile\n",
            "libpng warning: iCCP: known incorrect sRGB profile\n",
            "libpng warning: iCCP: known incorrect sRGB profile\n",
            "libpng warning: iCCP: known incorrect sRGB profile\n",
            "libpng warning: iCCP: known incorrect sRGB profile\n",
            "libpng warning: iCCP: known incorrect sRGB profile\n"
          ]
        },
        {
          "name": "stdout",
          "output_type": "stream",
          "text": [
            "Generated plate image saved at /mnt/c/Users/teraw/Developer/projects/license_plate/generated/plate_190.png\n",
            "Generated plate image saved at /mnt/c/Users/teraw/Developer/projects/license_plate/generated/plate_191.png\n",
            "Generated plate image saved at /mnt/c/Users/teraw/Developer/projects/license_plate/generated/plate_192.png\n",
            "Generated plate image saved at /mnt/c/Users/teraw/Developer/projects/license_plate/generated/plate_193.png\n",
            "Generated plate image saved at /mnt/c/Users/teraw/Developer/projects/license_plate/generated/plate_194.png\n",
            "Generated plate image saved at /mnt/c/Users/teraw/Developer/projects/license_plate/generated/plate_195.png\n",
            "Generated plate image saved at /mnt/c/Users/teraw/Developer/projects/license_plate/generated/plate_196.png\n"
          ]
        },
        {
          "name": "stderr",
          "output_type": "stream",
          "text": [
            "libpng warning: iCCP: known incorrect sRGB profile\n",
            "libpng warning: iCCP: known incorrect sRGB profile\n",
            "libpng warning: iCCP: known incorrect sRGB profile\n",
            "libpng warning: iCCP: known incorrect sRGB profile\n",
            "libpng warning: iCCP: known incorrect sRGB profile\n"
          ]
        },
        {
          "name": "stdout",
          "output_type": "stream",
          "text": [
            "Generated plate image saved at /mnt/c/Users/teraw/Developer/projects/license_plate/generated/plate_197.png\n",
            "Generated plate image saved at /mnt/c/Users/teraw/Developer/projects/license_plate/generated/plate_198.png\n",
            "Generated plate image saved at /mnt/c/Users/teraw/Developer/projects/license_plate/generated/plate_199.png\n",
            "Generated plate image saved at /mnt/c/Users/teraw/Developer/projects/license_plate/generated/plate_200.png\n",
            "Generated plate image saved at /mnt/c/Users/teraw/Developer/projects/license_plate/generated/plate_201.png\n",
            "Generated plate image saved at /mnt/c/Users/teraw/Developer/projects/license_plate/generated/plate_202.png\n",
            "Generated plate image saved at /mnt/c/Users/teraw/Developer/projects/license_plate/generated/plate_203.png\n"
          ]
        },
        {
          "name": "stderr",
          "output_type": "stream",
          "text": [
            "libpng warning: iCCP: known incorrect sRGB profile\n",
            "libpng warning: iCCP: known incorrect sRGB profile\n",
            "libpng warning: iCCP: known incorrect sRGB profile\n",
            "libpng warning: iCCP: known incorrect sRGB profile\n",
            "libpng warning: iCCP: known incorrect sRGB profile\n",
            "libpng warning: iCCP: known incorrect sRGB profile\n"
          ]
        },
        {
          "name": "stdout",
          "output_type": "stream",
          "text": [
            "Generated plate image saved at /mnt/c/Users/teraw/Developer/projects/license_plate/generated/plate_204.png\n",
            "Generated plate image saved at /mnt/c/Users/teraw/Developer/projects/license_plate/generated/plate_205.png\n",
            "Generated plate image saved at /mnt/c/Users/teraw/Developer/projects/license_plate/generated/plate_206.png\n",
            "Generated plate image saved at /mnt/c/Users/teraw/Developer/projects/license_plate/generated/plate_207.png\n",
            "Generated plate image saved at /mnt/c/Users/teraw/Developer/projects/license_plate/generated/plate_208.png\n",
            "Generated plate image saved at /mnt/c/Users/teraw/Developer/projects/license_plate/generated/plate_209.png\n",
            "Generated plate image saved at /mnt/c/Users/teraw/Developer/projects/license_plate/generated/plate_210.png\n",
            "Generated plate image saved at /mnt/c/Users/teraw/Developer/projects/license_plate/generated/plate_211.png\n",
            "Generated plate image saved at /mnt/c/Users/teraw/Developer/projects/license_plate/generated/plate_212.png\n",
            "Generated plate image saved at /mnt/c/Users/teraw/Developer/projects/license_plate/generated/plate_213.png\n",
            "Generated plate image saved at /mnt/c/Users/teraw/Developer/projects/license_plate/generated/plate_214.png\n",
            "Generated plate image saved at /mnt/c/Users/teraw/Developer/projects/license_plate/generated/plate_215.png\n",
            "Generated plate image saved at /mnt/c/Users/teraw/Developer/projects/license_plate/generated/plate_216.png\n",
            "Generated plate image saved at /mnt/c/Users/teraw/Developer/projects/license_plate/generated/plate_217.png\n"
          ]
        },
        {
          "name": "stderr",
          "output_type": "stream",
          "text": [
            "libpng warning: iCCP: known incorrect sRGB profile\n",
            "libpng warning: iCCP: known incorrect sRGB profile\n",
            "libpng warning: iCCP: known incorrect sRGB profile\n",
            "libpng warning: iCCP: known incorrect sRGB profile\n",
            "libpng warning: iCCP: known incorrect sRGB profile\n",
            "libpng warning: iCCP: known incorrect sRGB profile\n"
          ]
        },
        {
          "name": "stdout",
          "output_type": "stream",
          "text": [
            "Generated plate image saved at /mnt/c/Users/teraw/Developer/projects/license_plate/generated/plate_218.png\n",
            "Generated plate image saved at /mnt/c/Users/teraw/Developer/projects/license_plate/generated/plate_219.png\n",
            "Generated plate image saved at /mnt/c/Users/teraw/Developer/projects/license_plate/generated/plate_220.png\n",
            "Generated plate image saved at /mnt/c/Users/teraw/Developer/projects/license_plate/generated/plate_221.png\n",
            "Generated plate image saved at /mnt/c/Users/teraw/Developer/projects/license_plate/generated/plate_222.png\n",
            "Generated plate image saved at /mnt/c/Users/teraw/Developer/projects/license_plate/generated/plate_223.png\n",
            "Generated plate image saved at /mnt/c/Users/teraw/Developer/projects/license_plate/generated/plate_224.png\n"
          ]
        },
        {
          "name": "stderr",
          "output_type": "stream",
          "text": [
            "libpng warning: iCCP: known incorrect sRGB profile\n",
            "libpng warning: iCCP: known incorrect sRGB profile\n",
            "libpng warning: iCCP: known incorrect sRGB profile\n",
            "libpng warning: iCCP: known incorrect sRGB profile\n",
            "libpng warning: iCCP: known incorrect sRGB profile\n",
            "libpng warning: iCCP: known incorrect sRGB profile\n"
          ]
        },
        {
          "name": "stdout",
          "output_type": "stream",
          "text": [
            "Generated plate image saved at /mnt/c/Users/teraw/Developer/projects/license_plate/generated/plate_225.png\n",
            "Generated plate image saved at /mnt/c/Users/teraw/Developer/projects/license_plate/generated/plate_226.png\n",
            "Generated plate image saved at /mnt/c/Users/teraw/Developer/projects/license_plate/generated/plate_227.png\n",
            "Generated plate image saved at /mnt/c/Users/teraw/Developer/projects/license_plate/generated/plate_228.png\n",
            "Generated plate image saved at /mnt/c/Users/teraw/Developer/projects/license_plate/generated/plate_229.png\n",
            "Generated plate image saved at /mnt/c/Users/teraw/Developer/projects/license_plate/generated/plate_230.png\n",
            "Generated plate image saved at /mnt/c/Users/teraw/Developer/projects/license_plate/generated/plate_231.png\n"
          ]
        },
        {
          "name": "stderr",
          "output_type": "stream",
          "text": [
            "libpng warning: iCCP: known incorrect sRGB profile\n",
            "libpng warning: iCCP: known incorrect sRGB profile\n",
            "libpng warning: iCCP: known incorrect sRGB profile\n",
            "libpng warning: iCCP: known incorrect sRGB profile\n",
            "libpng warning: iCCP: known incorrect sRGB profile\n",
            "libpng warning: iCCP: known incorrect sRGB profile\n"
          ]
        },
        {
          "name": "stdout",
          "output_type": "stream",
          "text": [
            "Generated plate image saved at /mnt/c/Users/teraw/Developer/projects/license_plate/generated/plate_232.png\n",
            "Generated plate image saved at /mnt/c/Users/teraw/Developer/projects/license_plate/generated/plate_233.png\n",
            "Generated plate image saved at /mnt/c/Users/teraw/Developer/projects/license_plate/generated/plate_234.png\n",
            "Generated plate image saved at /mnt/c/Users/teraw/Developer/projects/license_plate/generated/plate_235.png\n",
            "Generated plate image saved at /mnt/c/Users/teraw/Developer/projects/license_plate/generated/plate_236.png\n",
            "Generated plate image saved at /mnt/c/Users/teraw/Developer/projects/license_plate/generated/plate_237.png\n",
            "Generated plate image saved at /mnt/c/Users/teraw/Developer/projects/license_plate/generated/plate_238.png\n"
          ]
        },
        {
          "name": "stderr",
          "output_type": "stream",
          "text": [
            "libpng warning: iCCP: known incorrect sRGB profile\n",
            "libpng warning: iCCP: known incorrect sRGB profile\n",
            "libpng warning: iCCP: known incorrect sRGB profile\n",
            "libpng warning: iCCP: known incorrect sRGB profile\n",
            "libpng warning: iCCP: known incorrect sRGB profile\n"
          ]
        },
        {
          "name": "stdout",
          "output_type": "stream",
          "text": [
            "Generated plate image saved at /mnt/c/Users/teraw/Developer/projects/license_plate/generated/plate_239.png\n",
            "Generated plate image saved at /mnt/c/Users/teraw/Developer/projects/license_plate/generated/plate_240.png\n",
            "Generated plate image saved at /mnt/c/Users/teraw/Developer/projects/license_plate/generated/plate_241.png\n",
            "Generated plate image saved at /mnt/c/Users/teraw/Developer/projects/license_plate/generated/plate_242.png\n",
            "Generated plate image saved at /mnt/c/Users/teraw/Developer/projects/license_plate/generated/plate_243.png\n",
            "Generated plate image saved at /mnt/c/Users/teraw/Developer/projects/license_plate/generated/plate_244.png\n"
          ]
        },
        {
          "name": "stderr",
          "output_type": "stream",
          "text": [
            "libpng warning: iCCP: known incorrect sRGB profile\n",
            "libpng warning: iCCP: known incorrect sRGB profile\n",
            "libpng warning: iCCP: known incorrect sRGB profile\n",
            "libpng warning: iCCP: known incorrect sRGB profile\n"
          ]
        },
        {
          "name": "stdout",
          "output_type": "stream",
          "text": [
            "Generated plate image saved at /mnt/c/Users/teraw/Developer/projects/license_plate/generated/plate_245.png\n",
            "Generated plate image saved at /mnt/c/Users/teraw/Developer/projects/license_plate/generated/plate_246.png\n",
            "Generated plate image saved at /mnt/c/Users/teraw/Developer/projects/license_plate/generated/plate_247.png\n",
            "Generated plate image saved at /mnt/c/Users/teraw/Developer/projects/license_plate/generated/plate_248.png\n",
            "Generated plate image saved at /mnt/c/Users/teraw/Developer/projects/license_plate/generated/plate_249.png\n"
          ]
        },
        {
          "name": "stderr",
          "output_type": "stream",
          "text": [
            "libpng warning: iCCP: known incorrect sRGB profile\n",
            "libpng warning: iCCP: known incorrect sRGB profile\n",
            "libpng warning: iCCP: known incorrect sRGB profile\n",
            "libpng warning: iCCP: known incorrect sRGB profile\n",
            "libpng warning: iCCP: known incorrect sRGB profile\n"
          ]
        },
        {
          "name": "stdout",
          "output_type": "stream",
          "text": [
            "Generated plate image saved at /mnt/c/Users/teraw/Developer/projects/license_plate/generated/plate_250.png\n",
            "Generated plate image saved at /mnt/c/Users/teraw/Developer/projects/license_plate/generated/plate_251.png\n",
            "Generated plate image saved at /mnt/c/Users/teraw/Developer/projects/license_plate/generated/plate_252.png\n",
            "Generated plate image saved at /mnt/c/Users/teraw/Developer/projects/license_plate/generated/plate_253.png\n",
            "Generated plate image saved at /mnt/c/Users/teraw/Developer/projects/license_plate/generated/plate_254.png\n"
          ]
        },
        {
          "name": "stderr",
          "output_type": "stream",
          "text": [
            "libpng warning: iCCP: known incorrect sRGB profile\n",
            "libpng warning: iCCP: known incorrect sRGB profile\n",
            "libpng warning: iCCP: known incorrect sRGB profile\n",
            "libpng warning: iCCP: known incorrect sRGB profile\n",
            "libpng warning: iCCP: known incorrect sRGB profile\n"
          ]
        },
        {
          "name": "stdout",
          "output_type": "stream",
          "text": [
            "Generated plate image saved at /mnt/c/Users/teraw/Developer/projects/license_plate/generated/plate_255.png\n",
            "Generated plate image saved at /mnt/c/Users/teraw/Developer/projects/license_plate/generated/plate_256.png\n",
            "Generated plate image saved at /mnt/c/Users/teraw/Developer/projects/license_plate/generated/plate_257.png\n",
            "Generated plate image saved at /mnt/c/Users/teraw/Developer/projects/license_plate/generated/plate_258.png\n",
            "Generated plate image saved at /mnt/c/Users/teraw/Developer/projects/license_plate/generated/plate_259.png\n",
            "Generated plate image saved at /mnt/c/Users/teraw/Developer/projects/license_plate/generated/plate_260.png\n"
          ]
        },
        {
          "name": "stderr",
          "output_type": "stream",
          "text": [
            "libpng warning: iCCP: known incorrect sRGB profile\n",
            "libpng warning: iCCP: known incorrect sRGB profile\n",
            "libpng warning: iCCP: known incorrect sRGB profile\n",
            "libpng warning: iCCP: known incorrect sRGB profile\n"
          ]
        },
        {
          "name": "stdout",
          "output_type": "stream",
          "text": [
            "Generated plate image saved at /mnt/c/Users/teraw/Developer/projects/license_plate/generated/plate_261.png\n",
            "Generated plate image saved at /mnt/c/Users/teraw/Developer/projects/license_plate/generated/plate_262.png\n",
            "Generated plate image saved at /mnt/c/Users/teraw/Developer/projects/license_plate/generated/plate_263.png\n",
            "Generated plate image saved at /mnt/c/Users/teraw/Developer/projects/license_plate/generated/plate_264.png\n",
            "Generated plate image saved at /mnt/c/Users/teraw/Developer/projects/license_plate/generated/plate_265.png\n",
            "Generated plate image saved at /mnt/c/Users/teraw/Developer/projects/license_plate/generated/plate_266.png\n"
          ]
        },
        {
          "name": "stderr",
          "output_type": "stream",
          "text": [
            "libpng warning: iCCP: known incorrect sRGB profile\n",
            "libpng warning: iCCP: known incorrect sRGB profile\n",
            "libpng warning: iCCP: known incorrect sRGB profile\n",
            "libpng warning: iCCP: known incorrect sRGB profile\n",
            "libpng warning: iCCP: known incorrect sRGB profile\n"
          ]
        },
        {
          "name": "stdout",
          "output_type": "stream",
          "text": [
            "Generated plate image saved at /mnt/c/Users/teraw/Developer/projects/license_plate/generated/plate_267.png\n",
            "Generated plate image saved at /mnt/c/Users/teraw/Developer/projects/license_plate/generated/plate_268.png\n",
            "Generated plate image saved at /mnt/c/Users/teraw/Developer/projects/license_plate/generated/plate_269.png\n",
            "Generated plate image saved at /mnt/c/Users/teraw/Developer/projects/license_plate/generated/plate_270.png\n",
            "Generated plate image saved at /mnt/c/Users/teraw/Developer/projects/license_plate/generated/plate_271.png\n",
            "Generated plate image saved at /mnt/c/Users/teraw/Developer/projects/license_plate/generated/plate_272.png\n"
          ]
        },
        {
          "name": "stderr",
          "output_type": "stream",
          "text": [
            "libpng warning: iCCP: known incorrect sRGB profile\n",
            "libpng warning: iCCP: known incorrect sRGB profile\n",
            "libpng warning: iCCP: known incorrect sRGB profile\n",
            "libpng warning: iCCP: known incorrect sRGB profile\n",
            "libpng warning: iCCP: known incorrect sRGB profile\n"
          ]
        },
        {
          "name": "stdout",
          "output_type": "stream",
          "text": [
            "Generated plate image saved at /mnt/c/Users/teraw/Developer/projects/license_plate/generated/plate_273.png\n",
            "Generated plate image saved at /mnt/c/Users/teraw/Developer/projects/license_plate/generated/plate_274.png\n",
            "Generated plate image saved at /mnt/c/Users/teraw/Developer/projects/license_plate/generated/plate_275.png\n",
            "Generated plate image saved at /mnt/c/Users/teraw/Developer/projects/license_plate/generated/plate_276.png\n",
            "Generated plate image saved at /mnt/c/Users/teraw/Developer/projects/license_plate/generated/plate_277.png\n",
            "Generated plate image saved at /mnt/c/Users/teraw/Developer/projects/license_plate/generated/plate_278.png\n"
          ]
        },
        {
          "name": "stderr",
          "output_type": "stream",
          "text": [
            "libpng warning: iCCP: known incorrect sRGB profile\n",
            "libpng warning: iCCP: known incorrect sRGB profile\n",
            "libpng warning: iCCP: known incorrect sRGB profile\n",
            "libpng warning: iCCP: known incorrect sRGB profile\n",
            "libpng warning: iCCP: known incorrect sRGB profile\n",
            "libpng warning: iCCP: known incorrect sRGB profile\n"
          ]
        },
        {
          "name": "stdout",
          "output_type": "stream",
          "text": [
            "Generated plate image saved at /mnt/c/Users/teraw/Developer/projects/license_plate/generated/plate_279.png\n",
            "Generated plate image saved at /mnt/c/Users/teraw/Developer/projects/license_plate/generated/plate_280.png\n",
            "Generated plate image saved at /mnt/c/Users/teraw/Developer/projects/license_plate/generated/plate_281.png\n",
            "Generated plate image saved at /mnt/c/Users/teraw/Developer/projects/license_plate/generated/plate_282.png\n",
            "Generated plate image saved at /mnt/c/Users/teraw/Developer/projects/license_plate/generated/plate_283.png\n",
            "Generated plate image saved at /mnt/c/Users/teraw/Developer/projects/license_plate/generated/plate_284.png\n"
          ]
        },
        {
          "name": "stderr",
          "output_type": "stream",
          "text": [
            "libpng warning: iCCP: known incorrect sRGB profile\n",
            "libpng warning: iCCP: known incorrect sRGB profile\n",
            "libpng warning: iCCP: known incorrect sRGB profile\n",
            "libpng warning: iCCP: known incorrect sRGB profile\n",
            "libpng warning: iCCP: known incorrect sRGB profile\n",
            "libpng warning: iCCP: known incorrect sRGB profile\n"
          ]
        },
        {
          "name": "stdout",
          "output_type": "stream",
          "text": [
            "Generated plate image saved at /mnt/c/Users/teraw/Developer/projects/license_plate/generated/plate_285.png\n",
            "Generated plate image saved at /mnt/c/Users/teraw/Developer/projects/license_plate/generated/plate_286.png\n",
            "Generated plate image saved at /mnt/c/Users/teraw/Developer/projects/license_plate/generated/plate_287.png\n",
            "Generated plate image saved at /mnt/c/Users/teraw/Developer/projects/license_plate/generated/plate_288.png\n",
            "Generated plate image saved at /mnt/c/Users/teraw/Developer/projects/license_plate/generated/plate_289.png\n",
            "Generated plate image saved at /mnt/c/Users/teraw/Developer/projects/license_plate/generated/plate_290.png\n"
          ]
        },
        {
          "name": "stderr",
          "output_type": "stream",
          "text": [
            "libpng warning: iCCP: known incorrect sRGB profile\n",
            "libpng warning: iCCP: known incorrect sRGB profile\n",
            "libpng warning: iCCP: known incorrect sRGB profile\n",
            "libpng warning: iCCP: known incorrect sRGB profile\n",
            "libpng warning: iCCP: known incorrect sRGB profile\n"
          ]
        },
        {
          "name": "stdout",
          "output_type": "stream",
          "text": [
            "Generated plate image saved at /mnt/c/Users/teraw/Developer/projects/license_plate/generated/plate_291.png\n",
            "Generated plate image saved at /mnt/c/Users/teraw/Developer/projects/license_plate/generated/plate_292.png\n",
            "Generated plate image saved at /mnt/c/Users/teraw/Developer/projects/license_plate/generated/plate_293.png\n",
            "Generated plate image saved at /mnt/c/Users/teraw/Developer/projects/license_plate/generated/plate_294.png\n",
            "Generated plate image saved at /mnt/c/Users/teraw/Developer/projects/license_plate/generated/plate_295.png\n",
            "Generated plate image saved at /mnt/c/Users/teraw/Developer/projects/license_plate/generated/plate_296.png\n",
            "Generated plate image saved at /mnt/c/Users/teraw/Developer/projects/license_plate/generated/plate_297.png\n",
            "Generated plate image saved at /mnt/c/Users/teraw/Developer/projects/license_plate/generated/plate_298.png\n",
            "Generated plate image saved at /mnt/c/Users/teraw/Developer/projects/license_plate/generated/plate_299.png\n",
            "Generated plate image saved at /mnt/c/Users/teraw/Developer/projects/license_plate/generated/plate_300.png\n"
          ]
        },
        {
          "name": "stderr",
          "output_type": "stream",
          "text": [
            "libpng warning: iCCP: known incorrect sRGB profile\n",
            "libpng warning: iCCP: known incorrect sRGB profile\n",
            "libpng warning: iCCP: known incorrect sRGB profile\n"
          ]
        }
      ],
      "source": [
        "# Paths\n",
        "font_path = \"/mnt/c/Users/teraw/Developer/projects/license_plate/Sarun's ThangLuang.ttf\"\n",
        "output_dir = \"/mnt/c/Users/teraw/Developer/projects/license_plate/generated/\"\n",
        "\n",
        "# Generate images for all plates\n",
        "for i, plate_info in enumerate(plate_numbers):\n",
        "    plate_id = plate_info['plate_id']\n",
        "    province = plate_info['province']\n",
        "    background = plate_info['background']\n",
        "    output_path = os.path.join(output_dir, f\"plate_{i+1}.png\")\n",
        "    generate_plate_image(plate_id, province, background, font_path, output_path)\n",
        "\n",
        "cv2.destroyAllWindows()"
      ]
    }
  ],
  "metadata": {
    "accelerator": "GPU",
    "colab": {
      "gpuType": "T4",
      "provenance": []
    },
    "kernelspec": {
      "display_name": "Python 3",
      "name": "python3"
    },
    "language_info": {
      "codemirror_mode": {
        "name": "ipython",
        "version": 3
      },
      "file_extension": ".py",
      "mimetype": "text/x-python",
      "name": "python",
      "nbconvert_exporter": "python",
      "pygments_lexer": "ipython3",
      "version": "3.10.14"
    }
  },
  "nbformat": 4,
  "nbformat_minor": 0
}
